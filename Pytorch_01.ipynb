{
  "nbformat": 4,
  "nbformat_minor": 0,
  "metadata": {
    "colab": {
      "provenance": [],
      "gpuType": "T4",
      "authorship_tag": "ABX9TyNmF2iXLQ5hhPCF7R53KUvU"
    },
    "kernelspec": {
      "name": "python3",
      "display_name": "Python 3"
    },
    "language_info": {
      "name": "python"
    },
    "accelerator": "GPU"
  },
  "cells": [
    {
      "cell_type": "markdown",
      "source": [
        "# PyTorch Workflow:\n",
        "  \n",
        "1. Data (prepare and load)\n",
        "2. Build Model\n",
        "3. Fitting the model to data (training)\n",
        "4. Making predictions and evaluting a model (inference)\n",
        "5. Saving and loading a model\n",
        "6. Putting it all together"
      ],
      "metadata": {
        "id": "CCUqPCiIaukF"
      }
    },
    {
      "cell_type": "code",
      "source": [
        "import torch\n",
        "from torch import nn # nn contains all of PyTorch's building blocks for neural networks\n",
        "import matplotlib.pyplot as plt"
      ],
      "metadata": {
        "id": "0pztJSXZbAyl"
      },
      "execution_count": null,
      "outputs": []
    },
    {
      "cell_type": "markdown",
      "source": [
        "## 1. Data (preparing and loading)  \n",
        "  \n",
        "Data can be almost anything in machine learning.\n",
        "\n",
        "* Excel spreadsheet\n",
        "* Images of any kind\n",
        "* Videos\n",
        "* Audio\n",
        "* DNA\n",
        "* Text\n",
        "\n",
        "Machine learning is a game of two parts:\n",
        "1. Get data into a numerical representation.\n",
        "2. Build a model to learn patterns in that numerical representation.  \n",
        "\n",
        "To showcase this, let's create some *known* data using the linear regression formula.\n",
        "\n",
        "We'll use a linear regression formula to make a straight line with known **parameters**.\n",
        "\n",
        "### Formula: Y = a + bX"
      ],
      "metadata": {
        "id": "-Lno7OxTbue5"
      }
    },
    {
      "cell_type": "code",
      "source": [
        "# Create known parameters\n",
        "weight = 0.7\n",
        "bias = 0.3\n",
        "\n",
        "# Create\n",
        "start = 0\n",
        "end = 1\n",
        "step = 0.02\n",
        "X = torch.arange(start, end, step).unsqueeze(dim=1) # We need the extra dimension later on for when we are doing models\n",
        "y = weight * X + bias # This is the linear regression formula\n",
        "\n",
        "# Lets view these numbers:\n",
        "X[:10], y[:10]"
      ],
      "metadata": {
        "colab": {
          "base_uri": "https://localhost:8080/"
        },
        "id": "vxu5lqlsbtIL",
        "outputId": "30842def-59a2-4920-dcda-9a6517023142"
      },
      "execution_count": null,
      "outputs": [
        {
          "output_type": "execute_result",
          "data": {
            "text/plain": [
              "(tensor([[0.0000],\n",
              "         [0.0200],\n",
              "         [0.0400],\n",
              "         [0.0600],\n",
              "         [0.0800],\n",
              "         [0.1000],\n",
              "         [0.1200],\n",
              "         [0.1400],\n",
              "         [0.1600],\n",
              "         [0.1800]]),\n",
              " tensor([[0.3000],\n",
              "         [0.3140],\n",
              "         [0.3280],\n",
              "         [0.3420],\n",
              "         [0.3560],\n",
              "         [0.3700],\n",
              "         [0.3840],\n",
              "         [0.3980],\n",
              "         [0.4120],\n",
              "         [0.4260]]))"
            ]
          },
          "metadata": {},
          "execution_count": 2
        }
      ]
    },
    {
      "cell_type": "markdown",
      "source": [
        "So we want to build a model to look at the values of X and predict the corresponding y values."
      ],
      "metadata": {
        "id": "dZ_krQZOd21q"
      }
    },
    {
      "cell_type": "code",
      "source": [
        "len(X), len(y)"
      ],
      "metadata": {
        "colab": {
          "base_uri": "https://localhost:8080/"
        },
        "id": "H6v3Y-BqdvjL",
        "outputId": "35c10e18-5190-4e84-a893-12e7d410d03f"
      },
      "execution_count": null,
      "outputs": [
        {
          "output_type": "execute_result",
          "data": {
            "text/plain": [
              "(50, 50)"
            ]
          },
          "metadata": {},
          "execution_count": 3
        }
      ]
    },
    {
      "cell_type": "markdown",
      "source": [
        "### Splitting data into training and test sets\n",
        "##### **One of the most important concepts in machine learning!**  \n",
        "  \n",
        "The goal is generalization.  \n",
        "**Generalization** - the ability for a machine learning model to perform well on data it has not seen before  \n",
        "  \n",
        "Split Data into 3 sets:\n",
        "* Training Set - model learns from this data : 60-80%\n",
        "* Validation Set - model gets tuned to this data : 10-20%\n",
        "* Testing set - model gets evaluated on this data : 10-20%"
      ],
      "metadata": {
        "id": "TJbCnaL3evYd"
      }
    },
    {
      "cell_type": "code",
      "source": [
        "# Lets create a training and testing set with our data. (80/20 Split)\n",
        "\n",
        "# Create a train/test split\n",
        "train_split = int(0.8 * len(X))\n",
        "X_train, y_train = X[:train_split], y[:train_split] # Training Sets\n",
        "X_test, y_test = X[train_split:], y[train_split:] # Testing Sets\n",
        "\n",
        "len(X_train), len(y_train), len(X_test), len(y_test)"
      ],
      "metadata": {
        "colab": {
          "base_uri": "https://localhost:8080/"
        },
        "id": "3GCuRpSPegkR",
        "outputId": "3f23868b-6388-4b62-9937-30e935bbfee0"
      },
      "execution_count": null,
      "outputs": [
        {
          "output_type": "execute_result",
          "data": {
            "text/plain": [
              "(40, 40, 10, 10)"
            ]
          },
          "metadata": {},
          "execution_count": 4
        }
      ]
    },
    {
      "cell_type": "code",
      "source": [
        "def plot_predictions(train_data=X_train,\n",
        "                     train_labels=y_train,\n",
        "                     test_data=X_test,\n",
        "                     test_labels=y_test,\n",
        "                     predictions=None):\n",
        "  \"\"\"\n",
        "  Plots training data, test data, and compares predictions\n",
        "  \"\"\"\n",
        "  plt.figure(figsize=(10, 7))\n",
        "\n",
        "  # Plot training data in blue\n",
        "  plt.scatter(train_data, train_labels, c=\"b\", s=4, label=\"Training Data\") # Adding labels for the legend\n",
        "\n",
        "  # Plot test data in green\n",
        "  plt.scatter(test_data, test_labels, c=\"g\", s=4, label=\"Testing Data\")\n",
        "\n",
        "  # Are there predictions?\n",
        "  if predictions is not None:\n",
        "    plt.scatter(test_data, predictions, c=\"r\", s=4, label=\"Predictions\")\n",
        "\n",
        "  \"\"\"\n",
        "  Remember, the goal is for the predictions to be as similar to test_labels\n",
        "  (or the testing data) as possible, as we are trying to predict y.\n",
        "  \"\"\"\n",
        "\n",
        "  plt.legend(prop={\"size\": 14})\n",
        "\n",
        "  plt.show()"
      ],
      "metadata": {
        "id": "BsLkGuP6gNe6"
      },
      "execution_count": null,
      "outputs": []
    },
    {
      "cell_type": "code",
      "source": [
        "plot_predictions()"
      ],
      "metadata": {
        "colab": {
          "base_uri": "https://localhost:8080/",
          "height": 599
        },
        "id": "WypVaSCbic6i",
        "outputId": "6280c51f-c0fd-4877-d8fe-a44bfcbd9771"
      },
      "execution_count": null,
      "outputs": [
        {
          "output_type": "display_data",
          "data": {
            "text/plain": [
              "<Figure size 1000x700 with 1 Axes>"
            ],
            "image/png": "[encoded data removed]"
          },
          "metadata": {}
        }
      ]
    },
    {
      "cell_type": "markdown",
      "source": [
        "### 2. Build Model  \n",
        "  \n",
        "The first PyTorch model...  \n",
        "  \n",
        "What the model does:\n",
        "* Start w/ random values (weight & bias)\n",
        "* Look at training data and adjust the random values to better represent (or get closer to) the ideal values (the weight & bias values we used to create the data)  \n",
        "  \n",
        "How does it do so?  \n",
        "  \n",
        "Through two main algorithms:  \n",
        "1. Gradient descent\n",
        "2. Backpropagation"
      ],
      "metadata": {
        "id": "w1KdYFRckZAn"
      }
    },
    {
      "cell_type": "code",
      "source": [
        "\n",
        "# Create linear regression model class\n",
        "class LinearRegressionModel(nn.Module): # <-- almost everything in PyTorch inherits from nn.Module\n",
        "  def __init__(self): # <-- Constructor\n",
        "    super().__init__() # basically saying run the constructor of the parent class `nn.Module`\n",
        "    self.weights = nn.Parameter(torch.randn(1, # start w/ a random weight and try to adjust it to the ideal weight\n",
        "                                            requires_grad=True,\n",
        "                                            dtype=torch.float))\n",
        "    self.bias = nn.Parameter(torch.randn(1, # start w/ a random bias and try to adjust it to the ideal bias\n",
        "                                         requires_grad=True,\n",
        "                                         dtype=torch.float))\n",
        "\n",
        "  # Forward method to define the computation in the model (if you inherit from nn.Module, you need a forward method)\n",
        "  def forward(self, x: torch.Tensor) -> torch.Tensor: # <-- \"x\" is the input data\n",
        "    return self.weights * x + self.bias # <-- The linear regression formula!"
      ],
      "metadata": {
        "id": "T-SSzXoDjJmS"
      },
      "execution_count": null,
      "outputs": []
    },
    {
      "cell_type": "markdown",
      "source": [
        "So the goal of the model is to start w/ random numbers (this is why we do torch.randn()..) then look at the data (training samples) and update those random numbers to represent the pattern in the data."
      ],
      "metadata": {
        "id": "ODWTMOdeoAUC"
      }
    },
    {
      "cell_type": "markdown",
      "source": [
        "### PyTorch model building essentials\n",
        "\n",
        "* torch.nn - contains all of the building blocks for computational graphs (a neural network can be considered a computational graph)\n",
        "* torch.nn.parameter - what parameters should our model try and learn, often a PyTorch layer from torch.nn will set these for us\n",
        "* torch.nn.Module - the base class for all neural network modules. If you subclass it, you should overright forward.\n",
        "* torch.optim - this is where the optimizers in PyTorch live, they will help w/ gradient descent\n",
        "* def forward() - All nn.Module subclasses require you to overright foward(). This method defines what happens in the forward computation.\n"
      ],
      "metadata": {
        "id": "GheDWqXz0XGT"
      }
    },
    {
      "cell_type": "markdown",
      "source": [
        "### Checking the contents of our PyTorch model  \n",
        "  \n",
        "What is inside the model?  \n",
        "\n",
        "We can check out the model parameters or what's inside the model by using `parameters()`"
      ],
      "metadata": {
        "id": "XdoiNkLa20er"
      }
    },
    {
      "cell_type": "code",
      "source": [
        "# Create a random seed\n",
        "torch.manual_seed(42)\n",
        "\n",
        "# Create an instance of the model (this is a subclass of nn.Module)\n",
        "model_0 = LinearRegressionModel()\n",
        "\n",
        "# Check out the parameters\n",
        "list(model_0.parameters())"
      ],
      "metadata": {
        "colab": {
          "base_uri": "https://localhost:8080/"
        },
        "id": "c3bW_IXPjJkN",
        "outputId": "1a6ab3cf-5839-473f-9342-7e35e744cfd1"
      },
      "execution_count": null,
      "outputs": [
        {
          "output_type": "execute_result",
          "data": {
            "text/plain": [
              "[Parameter containing:\n",
              " tensor([0.3367], requires_grad=True),\n",
              " Parameter containing:\n",
              " tensor([0.1288], requires_grad=True)]"
            ]
          },
          "metadata": {},
          "execution_count": 8
        }
      ]
    },
    {
      "cell_type": "code",
      "source": [
        "# List named parameters\n",
        "model_0.state_dict()"
      ],
      "metadata": {
        "colab": {
          "base_uri": "https://localhost:8080/"
        },
        "id": "gvagEoV9jJcG",
        "outputId": "10206be8-c9be-43c5-ce69-6f08eb4382e6"
      },
      "execution_count": null,
      "outputs": [
        {
          "output_type": "execute_result",
          "data": {
            "text/plain": [
              "OrderedDict([('weights', tensor([0.3367])), ('bias', tensor([0.1288]))])"
            ]
          },
          "metadata": {},
          "execution_count": 9
        }
      ]
    },
    {
      "cell_type": "markdown",
      "source": [
        "### Making prediction using `torch.inference_mode()`  \n",
        "  \n",
        "To check the mode's predictive power, lets see how well it predicts `y_test` based on `X_test`.\n",
        "\n",
        "When data is passed through the model, it is going to run it through the `forward()` method."
      ],
      "metadata": {
        "id": "inOEiweZKLIz"
      }
    },
    {
      "cell_type": "code",
      "source": [
        "X_test, y_test"
      ],
      "metadata": {
        "colab": {
          "base_uri": "https://localhost:8080/"
        },
        "id": "zLFRKkqZKpDQ",
        "outputId": "8eac1544-f35c-4ee6-a716-420155dbe059"
      },
      "execution_count": null,
      "outputs": [
        {
          "output_type": "execute_result",
          "data": {
            "text/plain": [
              "(tensor([[0.8000],\n",
              "         [0.8200],\n",
              "         [0.8400],\n",
              "         [0.8600],\n",
              "         [0.8800],\n",
              "         [0.9000],\n",
              "         [0.9200],\n",
              "         [0.9400],\n",
              "         [0.9600],\n",
              "         [0.9800]]),\n",
              " tensor([[0.8600],\n",
              "         [0.8740],\n",
              "         [0.8880],\n",
              "         [0.9020],\n",
              "         [0.9160],\n",
              "         [0.9300],\n",
              "         [0.9440],\n",
              "         [0.9580],\n",
              "         [0.9720],\n",
              "         [0.9860]]))"
            ]
          },
          "metadata": {},
          "execution_count": 10
        }
      ]
    },
    {
      "cell_type": "code",
      "source": [
        "# Make predictions w/ model\n",
        "with torch.inference_mode(): # When making predictions, use `torch.inference_mode()`\n",
        "  y_preds = model_0(X_test)\n",
        "\n",
        "# `interence_mode()` improves preformance for predictions\n",
        "\n",
        "y_preds"
      ],
      "metadata": {
        "colab": {
          "base_uri": "https://localhost:8080/"
        },
        "id": "IpVPHxaM36FJ",
        "outputId": "35311813-0b6b-4004-c3b3-aad67b059ac7"
      },
      "execution_count": null,
      "outputs": [
        {
          "output_type": "execute_result",
          "data": {
            "text/plain": [
              "tensor([[0.3982],\n",
              "        [0.4049],\n",
              "        [0.4116],\n",
              "        [0.4184],\n",
              "        [0.4251],\n",
              "        [0.4318],\n",
              "        [0.4386],\n",
              "        [0.4453],\n",
              "        [0.4520],\n",
              "        [0.4588]])"
            ]
          },
          "metadata": {},
          "execution_count": 11
        }
      ]
    },
    {
      "cell_type": "code",
      "source": [
        "y_test"
      ],
      "metadata": {
        "colab": {
          "base_uri": "https://localhost:8080/"
        },
        "id": "3ZZN6HyP36C6",
        "outputId": "f6c39788-1fe9-4e3c-e5d3-f575d5b2e054"
      },
      "execution_count": null,
      "outputs": [
        {
          "output_type": "execute_result",
          "data": {
            "text/plain": [
              "tensor([[0.8600],\n",
              "        [0.8740],\n",
              "        [0.8880],\n",
              "        [0.9020],\n",
              "        [0.9160],\n",
              "        [0.9300],\n",
              "        [0.9440],\n",
              "        [0.9580],\n",
              "        [0.9720],\n",
              "        [0.9860]])"
            ]
          },
          "metadata": {},
          "execution_count": 12
        }
      ]
    },
    {
      "cell_type": "code",
      "source": [
        "plot_predictions(predictions=y_preds)"
      ],
      "metadata": {
        "colab": {
          "base_uri": "https://localhost:8080/",
          "height": 599
        },
        "id": "c66ogZ28LXPN",
        "outputId": "4cf440d4-3f58-4e66-b0e4-cca57a54f28d"
      },
      "execution_count": null,
      "outputs": [
        {
          "output_type": "display_data",
          "data": {
            "text/plain": [
              "<Figure size 1000x700 with 1 Axes>"
            ],
            "image/png": "[encoded data removed]"
          },
          "metadata": {}
        }
      ]
    },
    {
      "cell_type": "markdown",
      "source": [
        "## 3. Train Model  \n",
        "  \n",
        "The whole idea of training is for a model to move from some *unknown* parameters (these may be random) to some *known* parameters.  \n",
        "  \n",
        "Or in other words from a poor representation of the data to a better representation of the data.  \n",
        "  \n",
        "One way to measure how poor or how wrong a models predictions are is to use a loss function.  \n",
        "  \n",
        "* Note: Loss function may also be called cost function or criterion in different areas.  \n",
        "\n",
        "Things we need to train\n",
        "  \n",
        "* **Loss function** - a function to measure how wrong your model's predictions are to the ideal outputs, lower is better.  \n",
        "* **Optimizer** - takes into account the loss of the model and adjusts the model's parameters (e.g. weight & bias in this case) to improve the loss function  \n",
        "  \n",
        "And specifically for PyTorch, we need:\n",
        "* A training loop\n",
        "* A testing loop"
      ],
      "metadata": {
        "id": "GiPpLPzjOJJy"
      }
    },
    {
      "cell_type": "markdown",
      "source": [
        "#### **L1 Loss Function** (also called MAE, mean absolute error)\n",
        "Calculates the difference between each prediction point and the target values, adds them all up, and gets the average.\n",
        "  \n",
        "Difference = y_prediction - y_test  \n",
        "then taking the average of all prediction points."
      ],
      "metadata": {
        "id": "qOmk4v_bQsFF"
      }
    },
    {
      "cell_type": "code",
      "source": [
        "# Check out the model's parameters (a parameter is a value that the model sets itself)\n",
        "model_0.state_dict()"
      ],
      "metadata": {
        "colab": {
          "base_uri": "https://localhost:8080/"
        },
        "id": "rbWJu_mMS6dc",
        "outputId": "81749ca5-b375-4d90-d58c-06334052b889"
      },
      "execution_count": null,
      "outputs": [
        {
          "output_type": "execute_result",
          "data": {
            "text/plain": [
              "OrderedDict([('weights', tensor([0.3367])), ('bias', tensor([0.1288]))])"
            ]
          },
          "metadata": {},
          "execution_count": 14
        }
      ]
    },
    {
      "cell_type": "code",
      "source": [
        "# Setup a loss function\n",
        "loss_fn = nn.L1Loss()\n",
        "\n",
        "# Setup an optimizer (stochastic gradient descent)\n",
        "optimizer = torch.optim.SGD(params=model_0.parameters(),\n",
        "                            lr=0.01) # lr = learning rate = possibly the most important hyperparameter you can set"
      ],
      "metadata": {
        "id": "QtdA_TleP7zQ"
      },
      "execution_count": null,
      "outputs": []
    },
    {
      "cell_type": "markdown",
      "source": [
        "Inside the optimizer you set two parameters:\n",
        "* `params` - the model parameters you'd like to optimize\n",
        "* `lr` (learning rate) - controls how big of a step the optimizer takes when updating the model's weights."
      ],
      "metadata": {
        "id": "kxADJjGnTupe"
      }
    },
    {
      "cell_type": "markdown",
      "source": [
        "### Building a training loop (and a testing loop) in PyTorch  \n",
        "  \n",
        "A couple of things needed in a training loop:  \n",
        "0. Loop through the data\n",
        "1. Forward pass (this involves data moving through the model's `forward()` functions) to make predictions on data - also called forward propagation\n",
        "2. Calculate the loss (compare forward pass predictions to ground truth labels)  \n",
        "3. Optimizer zero grad - resets the optimizer step to count from 0, otherwise it will keep accumlating\n",
        "4. Loss backwards - move backwards through the network to calculate the gradients of each of the parameters of the model w/ respect to the loss (**backpropagation**)\n",
        "5. Optimizer step - use the optimizer to adjust the model's parameters to try and improve the loss (**gradient descent**)"
      ],
      "metadata": {
        "id": "aUMC2_u-Udtd"
      }
    },
    {
      "cell_type": "code",
      "source": [
        "torch.manual_seed(42)\n",
        "# An epoch is one loop through the data... (this is a hyperparameter because it is set by the coder)\n",
        "epochs = 200\n",
        "\n",
        "# Track different values\n",
        "epoch_count = []\n",
        "loss_values = []\n",
        "test_loss_values = []\n",
        "\n",
        "### Training\n",
        "# 0. Loop through the data\n",
        "for epoch in range(epochs):\n",
        "  # Set the model to training mode\n",
        "  model_0.train() # train mode in PyTorch sets all parameters that require gradients to require gradients\n",
        "\n",
        "  # 1. Forward Pass\n",
        "  y_pred = model_0(X_train) # calling the forward method looks different than normal OOP in PyTorch\n",
        "\n",
        "  # 2. Calculate the Loss\n",
        "  loss = loss_fn(y_pred, y_train)\n",
        "\n",
        "  # 3. Optimizer zero grad\n",
        "  optimizer.zero_grad()\n",
        "\n",
        "  # 4. Perform backpropagation on the loss w/ respect to the parameters of the model\n",
        "  loss.backward()\n",
        "\n",
        "  # 5. Step the optimizer (perform gradient descent)\n",
        "  optimizer.step() # by default how the optimizer changes will acculumate through the loop so... we have to zero them above in step 3 for the next iteration of the loop\n",
        "\n",
        "\n",
        "  ### Testing\n",
        "  model_0.eval() # evaluation mode, turns off different settings in the model not needed for evaluation/testing\n",
        "  with torch.inference_mode(): # turns off gradient tracking & more behind the scenes\n",
        "    # 1. Do the forward pass\n",
        "    test_pred = model_0(X_test)\n",
        "\n",
        "    # 2. Calculate the loss\n",
        "    test_loss = loss_fn(test_pred, y_test)\n",
        "\n",
        "  # Print out what's happening\n",
        "  if epoch % 10 == 0:\n",
        "    epoch_count.append(epoch)\n",
        "    loss_values.append(loss)\n",
        "    test_loss_values.append(test_loss)\n",
        "\n",
        "    print(f\"Epoch: {epoch} | Test: {loss} | Test loss: {test_loss}\")\n",
        "    # Print out model state_dict()\n",
        "    print(model_0.state_dict())"
      ],
      "metadata": {
        "id": "iTrv2pn7RpUq",
        "colab": {
          "base_uri": "https://localhost:8080/"
        },
        "outputId": "a6243467-dc0d-4ec6-b774-69b7f6943977"
      },
      "execution_count": null,
      "outputs": [
        {
          "output_type": "stream",
          "name": "stdout",
          "text": [
            "Epoch: 0 | Test: 0.31288138031959534 | Test loss: 0.48106518387794495\n",
            "OrderedDict([('weights', tensor([0.3406])), ('bias', tensor([0.1388]))])\n",
            "Epoch: 10 | Test: 0.1976713240146637 | Test loss: 0.3463551998138428\n",
            "OrderedDict([('weights', tensor([0.3796])), ('bias', tensor([0.2388]))])\n",
            "Epoch: 20 | Test: 0.08908725529909134 | Test loss: 0.21729660034179688\n",
            "OrderedDict([('weights', tensor([0.4184])), ('bias', tensor([0.3333]))])\n",
            "Epoch: 30 | Test: 0.053148526698350906 | Test loss: 0.14464017748832703\n",
            "OrderedDict([('weights', tensor([0.4512])), ('bias', tensor([0.3768]))])\n",
            "Epoch: 40 | Test: 0.04543796554207802 | Test loss: 0.11360953003168106\n",
            "OrderedDict([('weights', tensor([0.4748])), ('bias', tensor([0.3868]))])\n",
            "Epoch: 50 | Test: 0.04167863354086876 | Test loss: 0.09919948130846024\n",
            "OrderedDict([('weights', tensor([0.4938])), ('bias', tensor([0.3843]))])\n",
            "Epoch: 60 | Test: 0.03818932920694351 | Test loss: 0.08886633068323135\n",
            "OrderedDict([('weights', tensor([0.5116])), ('bias', tensor([0.3788]))])\n",
            "Epoch: 70 | Test: 0.03476089984178543 | Test loss: 0.0805937647819519\n",
            "OrderedDict([('weights', tensor([0.5288])), ('bias', tensor([0.3718]))])\n",
            "Epoch: 80 | Test: 0.03132382780313492 | Test loss: 0.07232122868299484\n",
            "OrderedDict([('weights', tensor([0.5459])), ('bias', tensor([0.3648]))])\n",
            "Epoch: 90 | Test: 0.02788739837706089 | Test loss: 0.06473556160926819\n",
            "OrderedDict([('weights', tensor([0.5629])), ('bias', tensor([0.3573]))])\n",
            "Epoch: 100 | Test: 0.024458957836031914 | Test loss: 0.05646304413676262\n",
            "OrderedDict([('weights', tensor([0.5800])), ('bias', tensor([0.3503]))])\n",
            "Epoch: 110 | Test: 0.021020207554101944 | Test loss: 0.04819049686193466\n",
            "OrderedDict([('weights', tensor([0.5972])), ('bias', tensor([0.3433]))])\n",
            "Epoch: 120 | Test: 0.01758546568453312 | Test loss: 0.04060482233762741\n",
            "OrderedDict([('weights', tensor([0.6141])), ('bias', tensor([0.3358]))])\n",
            "Epoch: 130 | Test: 0.014155393466353416 | Test loss: 0.03233227878808975\n",
            "OrderedDict([('weights', tensor([0.6313])), ('bias', tensor([0.3288]))])\n",
            "Epoch: 140 | Test: 0.010716589167714119 | Test loss: 0.024059748277068138\n",
            "OrderedDict([('weights', tensor([0.6485])), ('bias', tensor([0.3218]))])\n",
            "Epoch: 150 | Test: 0.0072835334576666355 | Test loss: 0.016474086791276932\n",
            "OrderedDict([('weights', tensor([0.6654])), ('bias', tensor([0.3143]))])\n",
            "Epoch: 160 | Test: 0.0038517764769494534 | Test loss: 0.008201557211577892\n",
            "OrderedDict([('weights', tensor([0.6826])), ('bias', tensor([0.3073]))])\n",
            "Epoch: 170 | Test: 0.008932482451200485 | Test loss: 0.005023092031478882\n",
            "OrderedDict([('weights', tensor([0.6951])), ('bias', tensor([0.2993]))])\n",
            "Epoch: 180 | Test: 0.008932482451200485 | Test loss: 0.005023092031478882\n",
            "OrderedDict([('weights', tensor([0.6951])), ('bias', tensor([0.2993]))])\n",
            "Epoch: 190 | Test: 0.008932482451200485 | Test loss: 0.005023092031478882\n",
            "OrderedDict([('weights', tensor([0.6951])), ('bias', tensor([0.2993]))])\n"
          ]
        }
      ]
    },
    {
      "cell_type": "code",
      "source": [
        "# In order for values to be plotted, they must be in numPy array form.\n",
        "import numpy as np\n",
        "np.array(torch.tensor(loss_values).numpy())"
      ],
      "metadata": {
        "colab": {
          "base_uri": "https://localhost:8080/"
        },
        "id": "NJmqmjvXElfa",
        "outputId": "1abe11f2-c97f-4e74-cd97-59524a869a17"
      },
      "execution_count": null,
      "outputs": [
        {
          "output_type": "execute_result",
          "data": {
            "text/plain": [
              "array([0.31288138, 0.19767132, 0.08908726, 0.05314853, 0.04543797,\n",
              "       0.04167863, 0.03818933, 0.0347609 , 0.03132383, 0.0278874 ,\n",
              "       0.02445896, 0.02102021, 0.01758547, 0.01415539, 0.01071659,\n",
              "       0.00728353, 0.00385178, 0.00893248, 0.00893248, 0.00893248],\n",
              "      dtype=float32)"
            ]
          },
          "metadata": {},
          "execution_count": 17
        }
      ]
    },
    {
      "cell_type": "code",
      "source": [
        "# Plot the loss curves\n",
        "plt.plot(epoch_count, np.array(torch.tensor(loss_values).numpy()), label=\"Train Loss\")\n",
        "plt.plot(epoch_count, test_loss_values, label=\"Test Loss\")\n",
        "plt.title(\"Training & Test Loss Curves\")\n",
        "plt.ylabel(\"Loss\")\n",
        "plt.xlabel(\"Epoch Count\")\n",
        "plt.legend()\n",
        "plt.show()"
      ],
      "metadata": {
        "colab": {
          "base_uri": "https://localhost:8080/",
          "height": 472
        },
        "id": "O54ix5CdEDJ5",
        "outputId": "da4b1b8f-bb28-415d-bd45-2cd7b98ab8ad"
      },
      "execution_count": null,
      "outputs": [
        {
          "output_type": "display_data",
          "data": {
            "text/plain": [
              "<Figure size 640x480 with 1 Axes>"
            ],
            "image/png": "[encoded data removed]"
          },
          "metadata": {}
        }
      ]
    },
    {
      "cell_type": "code",
      "source": [
        "model_0.state_dict() # Parameters"
      ],
      "metadata": {
        "colab": {
          "base_uri": "https://localhost:8080/"
        },
        "id": "ALOzm9kkCKIb",
        "outputId": "839bf500-13f7-4210-b711-fc7766b743e4"
      },
      "execution_count": null,
      "outputs": [
        {
          "output_type": "execute_result",
          "data": {
            "text/plain": [
              "OrderedDict([('weights', tensor([0.6990])), ('bias', tensor([0.3093]))])"
            ]
          },
          "metadata": {},
          "execution_count": 19
        }
      ]
    },
    {
      "cell_type": "code",
      "source": [
        "weight, bias # Ideal Parameters"
      ],
      "metadata": {
        "colab": {
          "base_uri": "https://localhost:8080/"
        },
        "id": "b4U6STR2CJrZ",
        "outputId": "9cfbcd5f-75d3-41a1-81ff-c159f74b9d28"
      },
      "execution_count": null,
      "outputs": [
        {
          "output_type": "execute_result",
          "data": {
            "text/plain": [
              "(0.7, 0.3)"
            ]
          },
          "metadata": {},
          "execution_count": 20
        }
      ]
    },
    {
      "cell_type": "code",
      "source": [
        "# Lets make predictions with this newly trained model\n",
        "with torch.inference_mode():\n",
        "  y_preds_new = model_0(X_test)"
      ],
      "metadata": {
        "id": "0JO7AHzT5cy5"
      },
      "execution_count": null,
      "outputs": []
    },
    {
      "cell_type": "code",
      "source": [
        "# Old Predictions:\n",
        "plot_predictions(predictions=y_preds)"
      ],
      "metadata": {
        "colab": {
          "base_uri": "https://localhost:8080/",
          "height": 599
        },
        "id": "X16L9ZX5-fMJ",
        "outputId": "8e476e04-d918-42e6-c4ac-03f828b3948a"
      },
      "execution_count": null,
      "outputs": [
        {
          "output_type": "display_data",
          "data": {
            "text/plain": [
              "<Figure size 1000x700 with 1 Axes>"
            ],
            "image/png": "[encoded data removed]"
          },
          "metadata": {}
        }
      ]
    },
    {
      "cell_type": "code",
      "source": [
        "# New Predictions!\n",
        "plot_predictions(predictions=y_preds_new)"
      ],
      "metadata": {
        "colab": {
          "base_uri": "https://localhost:8080/",
          "height": 599
        },
        "id": "GHqYw51c-nAL",
        "outputId": "4b093663-47f7-4ba7-dbd4-1da33bd145e8"
      },
      "execution_count": null,
      "outputs": [
        {
          "output_type": "display_data",
          "data": {
            "text/plain": [
              "<Figure size 1000x700 with 1 Axes>"
            ],
            "image/png": "[encoded data removed]"
          },
          "metadata": {}
        }
      ]
    },
    {
      "cell_type": "markdown",
      "source": [
        "## Saving a Model in PyTorch  \n",
        "  \n",
        "There are three main methods for saving and loading models in PyTorch.  \n",
        "  \n",
        "1. `torch.save()` - allows you to save a PyTorch object in Python's pickle format\n",
        "2. `torch.load()` - allows you to load a saved PyTorch object\n",
        "3. `torch.nn.Module.load_state_dict()` - allows you to load a model's saved state dictionary"
      ],
      "metadata": {
        "id": "Ep0iWvS9K3yU"
      }
    },
    {
      "cell_type": "code",
      "source": [
        "# Saving PyTorch model\n",
        "from pathlib import Path\n",
        "\n",
        "# 1. Create model's directory\n",
        "MODEL_PATH = Path(\"models\")\n",
        "MODEL_PATH.mkdir(parents=True, exist_ok=True)\n",
        "\n",
        "# 2. Create model save path\n",
        "MODEL_NAME = \"01_pytorch_model_0.pth\"\n",
        "MODEL_SAVE_PATH = MODEL_PATH / MODEL_NAME\n",
        "\n",
        "# 3. Save the model state dict\n",
        "print(f\"Saving model to: {MODEL_SAVE_PATH}\")\n",
        "torch.save(obj=model_0.state_dict(),\n",
        "           f=MODEL_SAVE_PATH)"
      ],
      "metadata": {
        "colab": {
          "base_uri": "https://localhost:8080/"
        },
        "id": "xtMZp1K0LbIK",
        "outputId": "14f14d23-5c4a-4886-b81f-2645949c187a"
      },
      "execution_count": null,
      "outputs": [
        {
          "output_type": "stream",
          "name": "stdout",
          "text": [
            "Saving model to: models/01_pytorch_model_0.pth\n"
          ]
        }
      ]
    },
    {
      "cell_type": "code",
      "source": [
        "!ls -1 models"
      ],
      "metadata": {
        "colab": {
          "base_uri": "https://localhost:8080/"
        },
        "id": "lDVaZfpaMH3y",
        "outputId": "76177583-46b9-4bb8-ce16-66fa6c399c68"
      },
      "execution_count": null,
      "outputs": [
        {
          "output_type": "stream",
          "name": "stdout",
          "text": [
            "01_pytorch_model_0.pth\n"
          ]
        }
      ]
    },
    {
      "cell_type": "markdown",
      "source": [
        "## Loading a PyTorch model  \n",
        "  \n",
        "Since the model's `state_dict()` was saved rather than the entire model, we'll create a new instance of the model class and load the saved `state_dict()` into that."
      ],
      "metadata": {
        "id": "tnuvZFS8Uc0X"
      }
    },
    {
      "cell_type": "code",
      "source": [
        "# Loading a `state_dict()`\n",
        "\n",
        "# Creating a new instance of the model\n",
        "loaded_model_0 = LinearRegressionModel()\n",
        "\n",
        "# Loading the saved `state_dict()` into the new instance\n",
        "loaded_model_0.load_state_dict(torch.load(MODEL_SAVE_PATH, weights_only=True)) # load the saved weights\n",
        "\n",
        "# Lets see the weights now\n",
        "loaded_model_0.state_dict()"
      ],
      "metadata": {
        "colab": {
          "base_uri": "https://localhost:8080/"
        },
        "id": "cNOjo1SGL1u_",
        "outputId": "ec536c07-df5e-49d1-b421-1f84cbcabe46"
      },
      "execution_count": null,
      "outputs": [
        {
          "output_type": "execute_result",
          "data": {
            "text/plain": [
              "OrderedDict([('weights', tensor([0.6990])), ('bias', tensor([0.3093]))])"
            ]
          },
          "metadata": {},
          "execution_count": 26
        }
      ]
    },
    {
      "cell_type": "code",
      "source": [
        "# make some predictions with the loaded model\n",
        "loaded_model_0.eval()\n",
        "with torch.inference_mode():\n",
        "  loaded_model_preds = loaded_model_0(X_test)\n",
        "\n",
        "loaded_model_preds"
      ],
      "metadata": {
        "colab": {
          "base_uri": "https://localhost:8080/"
        },
        "id": "e-JsuC6AVhGu",
        "outputId": "de5b88cb-b8aa-4cb3-b561-e35ce7ee1790"
      },
      "execution_count": null,
      "outputs": [
        {
          "output_type": "execute_result",
          "data": {
            "text/plain": [
              "tensor([[0.8685],\n",
              "        [0.8825],\n",
              "        [0.8965],\n",
              "        [0.9105],\n",
              "        [0.9245],\n",
              "        [0.9384],\n",
              "        [0.9524],\n",
              "        [0.9664],\n",
              "        [0.9804],\n",
              "        [0.9944]])"
            ]
          },
          "metadata": {},
          "execution_count": 27
        }
      ]
    },
    {
      "cell_type": "code",
      "source": [
        "# Compare loaded model preds w/ original model preds\n",
        "y_preds_new == loaded_model_preds"
      ],
      "metadata": {
        "colab": {
          "base_uri": "https://localhost:8080/"
        },
        "id": "e0HfNJGCVsPF",
        "outputId": "5b496e3b-f2da-42a6-f110-2b9e0d7353e8"
      },
      "execution_count": null,
      "outputs": [
        {
          "output_type": "execute_result",
          "data": {
            "text/plain": [
              "tensor([[True],\n",
              "        [True],\n",
              "        [True],\n",
              "        [True],\n",
              "        [True],\n",
              "        [True],\n",
              "        [True],\n",
              "        [True],\n",
              "        [True],\n",
              "        [True]])"
            ]
          },
          "metadata": {},
          "execution_count": 28
        }
      ]
    },
    {
      "cell_type": "markdown",
      "source": [
        "## 6. Putting it all together"
      ],
      "metadata": {
        "id": "9hN4bDTjWNnr"
      }
    },
    {
      "cell_type": "code",
      "source": [
        "# Import PyTorch and matplotlib\n",
        "import torch\n",
        "from torch import nn\n",
        "import matplotlib.pyplot as plt\n",
        "import numpy as np"
      ],
      "metadata": {
        "id": "M6iIeUekWTeI"
      },
      "execution_count": 1,
      "outputs": []
    },
    {
      "cell_type": "code",
      "source": [
        "# Setup Device Agnostic Code\n",
        "device = \"cuda\" if torch.cuda.is_available() else \"cpu\"\n",
        "print(f\"Using device: {device}\")"
      ],
      "metadata": {
        "colab": {
          "base_uri": "https://localhost:8080/"
        },
        "id": "sD74TVtnconX",
        "outputId": "df7aaf5b-4562-48b4-d6d3-b13fa37767cf"
      },
      "execution_count": 2,
      "outputs": [
        {
          "output_type": "stream",
          "name": "stdout",
          "text": [
            "Using device: cuda\n"
          ]
        }
      ]
    },
    {
      "cell_type": "markdown",
      "source": [
        "### 6.1 Data:"
      ],
      "metadata": {
        "id": "ciXx6ixkeTE3"
      }
    },
    {
      "cell_type": "code",
      "source": [
        "# Getting Data\n",
        "weights = 0.7\n",
        "bias = 0.3\n",
        "\n",
        "start = 0\n",
        "end = 1\n",
        "step = 0.02\n",
        "X = torch.arange(start, end, step).unsqueeze(dim=1)\n",
        "y = weights * X + bias"
      ],
      "metadata": {
        "id": "f6WWPgxzWsoq"
      },
      "execution_count": 3,
      "outputs": []
    },
    {
      "cell_type": "code",
      "source": [
        "train_data_split = int(0.8 * len(X))\n",
        "X_train, y_train = X[:train_data_split], y[:train_data_split]\n",
        "X_test, y_test = X[train_data_split:], y[train_data_split:]"
      ],
      "metadata": {
        "id": "2t49fLlzXIuh"
      },
      "execution_count": 4,
      "outputs": []
    },
    {
      "cell_type": "markdown",
      "source": [
        "### 6.2 Creating Model"
      ],
      "metadata": {
        "id": "iww9tL8OeWLS"
      }
    },
    {
      "cell_type": "code",
      "source": [
        "class LinearRegressionModelV2(nn.Module):\n",
        "  def __init__(self):\n",
        "    super().__init__()\n",
        "\n",
        "    # Use nn.Linear() for creating the model parameters / also called: linear transform, probing layer, fully connected layer, dense layer\n",
        "    self.linear_layer = nn.Linear(in_features=1,\n",
        "                                  out_features=1)\n",
        "\n",
        "  def forward(self, x):\n",
        "    return self.linear_layer(x)"
      ],
      "metadata": {
        "id": "rjaSVG7cXlAe"
      },
      "execution_count": 5,
      "outputs": []
    },
    {
      "cell_type": "code",
      "source": [
        "# Setting random seed and creating model instance\n",
        "torch.manual_seed(42)\n",
        "\n",
        "model_0_practice = LinearRegressionModelV2()"
      ],
      "metadata": {
        "id": "4kRvwhWjY_Fz"
      },
      "execution_count": 6,
      "outputs": []
    },
    {
      "cell_type": "code",
      "source": [
        "# Check the model current device\n",
        "next(model_0_practice.parameters()).device"
      ],
      "metadata": {
        "colab": {
          "base_uri": "https://localhost:8080/"
        },
        "id": "biQfRB0dSrwT",
        "outputId": "a6db73cb-ae6a-44ec-acbd-322234d7c910"
      },
      "execution_count": 7,
      "outputs": [
        {
          "output_type": "execute_result",
          "data": {
            "text/plain": [
              "device(type='cpu')"
            ]
          },
          "metadata": {},
          "execution_count": 7
        }
      ]
    },
    {
      "cell_type": "code",
      "source": [
        "# Set the model to use the target device\n",
        "model_0_practice.to(device)\n",
        "next(model_0_practice.parameters()).device"
      ],
      "metadata": {
        "colab": {
          "base_uri": "https://localhost:8080/"
        },
        "id": "MXFg9airTJJB",
        "outputId": "50220476-da65-47bd-9e40-7b708efb7fa7"
      },
      "execution_count": 8,
      "outputs": [
        {
          "output_type": "execute_result",
          "data": {
            "text/plain": [
              "device(type='cuda', index=0)"
            ]
          },
          "metadata": {},
          "execution_count": 8
        }
      ]
    },
    {
      "cell_type": "code",
      "source": [
        "# Move data to target device (device agnostic code for data)\n",
        "X_train, y_train = X_train.to(device), y_train.to(device)\n",
        "X_test, y_test = X_test.to(device), y_test.to(device)"
      ],
      "metadata": {
        "id": "JL8kIj-YT5co"
      },
      "execution_count": 20,
      "outputs": []
    },
    {
      "cell_type": "code",
      "source": [
        "# Creating loss function and optimizer\n",
        "loss_fn = nn.L1Loss()\n",
        "optimizer = torch.optim.SGD(params = model_0_practice.parameters(),\n",
        "                            lr=0.01)"
      ],
      "metadata": {
        "id": "IsVzmOifZJ3V"
      },
      "execution_count": 10,
      "outputs": []
    },
    {
      "cell_type": "markdown",
      "source": [
        "### 6.3 Training and Testing Model"
      ],
      "metadata": {
        "id": "miySOYx0epxl"
      }
    },
    {
      "cell_type": "code",
      "source": [
        "torch.manual_seed(42)\n",
        "\n",
        "epochs = 200\n",
        "\n",
        "epoch_count = []\n",
        "loss_values = []\n",
        "test_loss_values = []\n",
        "\n",
        "### Training Model\n",
        "for epoch in range(epochs):\n",
        "  model_0_practice.train()\n",
        "\n",
        "  # 1. Forward pass\n",
        "  y_preds = model_0_practice(X_train)\n",
        "\n",
        "  # 2. Calculate the loss\n",
        "  loss = loss_fn(y_preds, y_train)\n",
        "\n",
        "  # 3. Optimzier zero grad\n",
        "  optimizer.zero_grad()\n",
        "\n",
        "  # 4. Perform backpropagation\n",
        "  loss.backward()\n",
        "\n",
        "  # 5. Optimizer step\n",
        "  optimizer.step()\n",
        "\n",
        "  ### Testing\n",
        "  model_0_practice.eval()\n",
        "  with torch.inference_mode():\n",
        "    test_preds = model_0_practice(X_test)\n",
        "    test_loss = loss_fn(test_preds, y_test)\n",
        "\n",
        "  if epoch % 10 == 0:\n",
        "    epoch_count.append(epoch)\n",
        "    loss_values.append(loss)\n",
        "    test_loss_values.append(test_loss)\n",
        "\n",
        "    print(f\"Epoch: {epoch} | Test: {loss} | Test loss: {test_loss}\")\n",
        "    print(model_0_practice.state_dict())"
      ],
      "metadata": {
        "colab": {
          "base_uri": "https://localhost:8080/"
        },
        "id": "sNQGmYdvYp3X",
        "outputId": "5bef1c5d-7781-418f-c602-28b18df7b5ce"
      },
      "execution_count": 11,
      "outputs": [
        {
          "output_type": "stream",
          "name": "stdout",
          "text": [
            "Epoch: 0 | Test: 0.5551779866218567 | Test loss: 0.5739762187004089\n",
            "OrderedDict([('linear_layer.weight', tensor([[0.7606]], device='cuda:0')), ('linear_layer.bias', tensor([0.8200], device='cuda:0'))])\n",
            "Epoch: 10 | Test: 0.439968079328537 | Test loss: 0.4392664134502411\n",
            "OrderedDict([('linear_layer.weight', tensor([[0.7216]], device='cuda:0')), ('linear_layer.bias', tensor([0.7200], device='cuda:0'))])\n",
            "Epoch: 20 | Test: 0.3247582018375397 | Test loss: 0.30455657839775085\n",
            "OrderedDict([('linear_layer.weight', tensor([[0.6826]], device='cuda:0')), ('linear_layer.bias', tensor([0.6200], device='cuda:0'))])\n",
            "Epoch: 30 | Test: 0.20954833924770355 | Test loss: 0.16984669864177704\n",
            "OrderedDict([('linear_layer.weight', tensor([[0.6436]], device='cuda:0')), ('linear_layer.bias', tensor([0.5200], device='cuda:0'))])\n",
            "Epoch: 40 | Test: 0.09433845430612564 | Test loss: 0.03513690456748009\n",
            "OrderedDict([('linear_layer.weight', tensor([[0.6046]], device='cuda:0')), ('linear_layer.bias', tensor([0.4200], device='cuda:0'))])\n",
            "Epoch: 50 | Test: 0.023886388167738914 | Test loss: 0.04784907028079033\n",
            "OrderedDict([('linear_layer.weight', tensor([[0.5872]], device='cuda:0')), ('linear_layer.bias', tensor([0.3525], device='cuda:0'))])\n",
            "Epoch: 60 | Test: 0.019956795498728752 | Test loss: 0.045803118497133255\n",
            "OrderedDict([('linear_layer.weight', tensor([[0.6025]], device='cuda:0')), ('linear_layer.bias', tensor([0.3410], device='cuda:0'))])\n",
            "Epoch: 70 | Test: 0.016517987474799156 | Test loss: 0.037530567497015\n",
            "OrderedDict([('linear_layer.weight', tensor([[0.6196]], device='cuda:0')), ('linear_layer.bias', tensor([0.3340], device='cuda:0'))])\n",
            "Epoch: 80 | Test: 0.013089174404740334 | Test loss: 0.02994490973651409\n",
            "OrderedDict([('linear_layer.weight', tensor([[0.6366]], device='cuda:0')), ('linear_layer.bias', tensor([0.3265], device='cuda:0'))])\n",
            "Epoch: 90 | Test: 0.009653178043663502 | Test loss: 0.02167237363755703\n",
            "OrderedDict([('linear_layer.weight', tensor([[0.6537]], device='cuda:0')), ('linear_layer.bias', tensor([0.3195], device='cuda:0'))])\n",
            "Epoch: 100 | Test: 0.006215683650225401 | Test loss: 0.014086711220443249\n",
            "OrderedDict([('linear_layer.weight', tensor([[0.6707]], device='cuda:0')), ('linear_layer.bias', tensor([0.3120], device='cuda:0'))])\n",
            "Epoch: 110 | Test: 0.00278724217787385 | Test loss: 0.005814164876937866\n",
            "OrderedDict([('linear_layer.weight', tensor([[0.6878]], device='cuda:0')), ('linear_layer.bias', tensor([0.3050], device='cuda:0'))])\n",
            "Epoch: 120 | Test: 0.0012645035749301314 | Test loss: 0.013801801018416882\n",
            "OrderedDict([('linear_layer.weight', tensor([[0.6929]], device='cuda:0')), ('linear_layer.bias', tensor([0.2925], device='cuda:0'))])\n",
            "Epoch: 130 | Test: 0.0012645035749301314 | Test loss: 0.013801801018416882\n",
            "OrderedDict([('linear_layer.weight', tensor([[0.6929]], device='cuda:0')), ('linear_layer.bias', tensor([0.2925], device='cuda:0'))])\n",
            "Epoch: 140 | Test: 0.0012645035749301314 | Test loss: 0.013801801018416882\n",
            "OrderedDict([('linear_layer.weight', tensor([[0.6929]], device='cuda:0')), ('linear_layer.bias', tensor([0.2925], device='cuda:0'))])\n",
            "Epoch: 150 | Test: 0.0012645035749301314 | Test loss: 0.013801801018416882\n",
            "OrderedDict([('linear_layer.weight', tensor([[0.6929]], device='cuda:0')), ('linear_layer.bias', tensor([0.2925], device='cuda:0'))])\n",
            "Epoch: 160 | Test: 0.0012645035749301314 | Test loss: 0.013801801018416882\n",
            "OrderedDict([('linear_layer.weight', tensor([[0.6929]], device='cuda:0')), ('linear_layer.bias', tensor([0.2925], device='cuda:0'))])\n",
            "Epoch: 170 | Test: 0.0012645035749301314 | Test loss: 0.013801801018416882\n",
            "OrderedDict([('linear_layer.weight', tensor([[0.6929]], device='cuda:0')), ('linear_layer.bias', tensor([0.2925], device='cuda:0'))])\n",
            "Epoch: 180 | Test: 0.0012645035749301314 | Test loss: 0.013801801018416882\n",
            "OrderedDict([('linear_layer.weight', tensor([[0.6929]], device='cuda:0')), ('linear_layer.bias', tensor([0.2925], device='cuda:0'))])\n",
            "Epoch: 190 | Test: 0.0012645035749301314 | Test loss: 0.013801801018416882\n",
            "OrderedDict([('linear_layer.weight', tensor([[0.6929]], device='cuda:0')), ('linear_layer.bias', tensor([0.2925], device='cuda:0'))])\n"
          ]
        }
      ]
    },
    {
      "cell_type": "markdown",
      "source": [
        "### 6.4 Plotting and Evaluating Predictions"
      ],
      "metadata": {
        "id": "0wHtxgERevD-"
      }
    },
    {
      "cell_type": "code",
      "source": [
        "# Turn model into evaluation mode\n",
        "model_0_practice.eval()\n",
        "\n",
        "# Make predictions on the test data\n",
        "with torch.inference_mode():\n",
        "  y_final_prediction = model_0_practice(X_test)\n",
        "y_final_prediction"
      ],
      "metadata": {
        "colab": {
          "base_uri": "https://localhost:8080/"
        },
        "id": "WF6g750UXiJN",
        "outputId": "b633a2d1-28a1-46cb-ad99-5870a7d30c19"
      },
      "execution_count": 12,
      "outputs": [
        {
          "output_type": "execute_result",
          "data": {
            "text/plain": [
              "tensor([[0.8600],\n",
              "        [0.8739],\n",
              "        [0.8878],\n",
              "        [0.9018],\n",
              "        [0.9157],\n",
              "        [0.9296],\n",
              "        [0.9436],\n",
              "        [0.9575],\n",
              "        [0.9714],\n",
              "        [0.9854]], device='cuda:0')"
            ]
          },
          "metadata": {},
          "execution_count": 12
        }
      ]
    },
    {
      "cell_type": "code",
      "source": [
        "# Adjusting the plot_predictions function to convert tensors to cpu device and numpy format\n",
        "def plot_predictions(train_data=X_train,\n",
        "                     train_labels=y_train,\n",
        "                     test_data=X_test,\n",
        "                     test_labels=y_test,\n",
        "                     predictions=None):\n",
        "  \"\"\"\n",
        "  Plots training data, test data, and compares predictions.\n",
        "  Automatically moves all data to CPU and NumPy.\n",
        "  \"\"\"\n",
        "  # Ensure all tensors are on CPU and converted to NumPy\n",
        "  train_data = train_data.detach().cpu().numpy()\n",
        "  train_labels = train_labels.detach().cpu().numpy()\n",
        "  test_data = test_data.detach().cpu().numpy()\n",
        "  test_labels = test_labels.detach().cpu().numpy()\n",
        "\n",
        "  if predictions is not None and torch.is_tensor(predictions):\n",
        "    predictions = predictions.detach().cpu().numpy()\n",
        "\n",
        "  # Begin plotting\n",
        "  plt.figure(figsize=(10, 7))\n",
        "  plt.scatter(train_data, train_labels, c=\"b\", s=4, label=\"Training Data\")\n",
        "  plt.scatter(test_data, test_labels, c=\"g\", s=4, label=\"Testing Data\")\n",
        "\n",
        "  if predictions is not None:\n",
        "    plt.scatter(test_data, predictions, c=\"r\", s=4, label=\"Predictions\")\n",
        "\n",
        "  plt.legend(prop={\"size\": 14})\n",
        "  plt.show()\n"
      ],
      "metadata": {
        "id": "Dc3uaGg44iK2"
      },
      "execution_count": 13,
      "outputs": []
    },
    {
      "cell_type": "code",
      "source": [
        "import numpy as np\n",
        "# Check out the model predictions visually\n",
        "plot_predictions(predictions=y_final_prediction.cpu().numpy()) # gotta convert the tensor back to cpu device because matplotlib is numpy based and numpy uses CPU!"
      ],
      "metadata": {
        "colab": {
          "base_uri": "https://localhost:8080/",
          "height": 460
        },
        "id": "p5xnKQNPbC_W",
        "outputId": "7ee64f6f-e215-414f-81e1-215deef10c20"
      },
      "execution_count": 14,
      "outputs": [
        {
          "output_type": "display_data",
          "data": {
            "text/plain": [
              "<Figure size 1000x700 with 1 Axes>"
            ],
            "image/png": "[encoded data removed]"
          },
          "metadata": {}
        }
      ]
    },
    {
      "cell_type": "markdown",
      "source": [
        "### 6.5 Saving and Loading a Trained Model"
      ],
      "metadata": {
        "id": "EqzLuoG_Y37r"
      }
    },
    {
      "cell_type": "code",
      "source": [
        "from pathlib import Path\n",
        "\n",
        "# 1. Create models directory\n",
        "MODEL_PATH = Path(\"models\")\n",
        "MODEL_PATH.mkdir(parents=True, exist_ok=True)\n",
        "\n",
        "# 2. Create model save path\n",
        "MODEL_NAME = \"01_pytorch_model_0_practice.pth\"\n",
        "MODEL_SAVE_PATH = MODEL_PATH / MODEL_NAME\n",
        "\n",
        "# 3. Save the model state dict\n",
        "print(f\"Saving model to: {MODEL_SAVE_PATH}\")\n",
        "torch.save(obj=model_0_practice.state_dict(),\n",
        "           f=MODEL_SAVE_PATH)"
      ],
      "metadata": {
        "id": "X9-BUSFVXczI",
        "colab": {
          "base_uri": "https://localhost:8080/"
        },
        "outputId": "5e042777-17e3-4ba5-8f73-3776d2dbf70f"
      },
      "execution_count": 15,
      "outputs": [
        {
          "output_type": "stream",
          "name": "stdout",
          "text": [
            "Saving model to: models/01_pytorch_model_0_practice.pth\n"
          ]
        }
      ]
    },
    {
      "cell_type": "code",
      "source": [
        "# Load a PyTorch Model\n",
        "\n",
        "# Create new instance of linear regression model v2\n",
        "load_model_0_practice = LinearRegressionModelV2()\n",
        "\n",
        "# Load saved weights onto the new instance\n",
        "load_model_0_practice.load_state_dict(torch.load(MODEL_SAVE_PATH, weights_only=True))\n",
        "\n",
        "# Checking the `state_dict()`\n",
        "load_model_0_practice.state_dict()"
      ],
      "metadata": {
        "id": "zY9OoX6rY2hs",
        "colab": {
          "base_uri": "https://localhost:8080/"
        },
        "outputId": "8f0257e0-37ae-47e0-864c-706ddc4f5797"
      },
      "execution_count": 17,
      "outputs": [
        {
          "output_type": "execute_result",
          "data": {
            "text/plain": [
              "OrderedDict([('linear_layer.weight', tensor([[0.6968]])),\n",
              "             ('linear_layer.bias', tensor([0.3025]))])"
            ]
          },
          "metadata": {},
          "execution_count": 17
        }
      ]
    },
    {
      "cell_type": "code",
      "source": [
        "# Making sure it is on the GPU device\n",
        "load_model_0_practice.to(device)"
      ],
      "metadata": {
        "colab": {
          "base_uri": "https://localhost:8080/"
        },
        "id": "PBWcrwi1AHMA",
        "outputId": "907d220e-a3b5-4a25-d9c3-6b385c5e8974"
      },
      "execution_count": 24,
      "outputs": [
        {
          "output_type": "execute_result",
          "data": {
            "text/plain": [
              "LinearRegressionModelV2(\n",
              "  (linear_layer): Linear(in_features=1, out_features=1, bias=True)\n",
              ")"
            ]
          },
          "metadata": {},
          "execution_count": 24
        }
      ]
    },
    {
      "cell_type": "code",
      "source": [
        "# Evalaute loaded model\n",
        "load_model_0_practice.eval()\n",
        "\n",
        "with torch.inference_mode():\n",
        "  load_model_0_preds = load_model_0_practice(X_test)\n",
        "y_final_prediction == load_model_0_preds"
      ],
      "metadata": {
        "colab": {
          "base_uri": "https://localhost:8080/"
        },
        "id": "M2ljK1Vx_Zqq",
        "outputId": "71bb828a-0dc2-4355-f0de-9c8bdacdb432"
      },
      "execution_count": 26,
      "outputs": [
        {
          "output_type": "execute_result",
          "data": {
            "text/plain": [
              "tensor([[True],\n",
              "        [True],\n",
              "        [True],\n",
              "        [True],\n",
              "        [True],\n",
              "        [True],\n",
              "        [True],\n",
              "        [True],\n",
              "        [True],\n",
              "        [True]], device='cuda:0')"
            ]
          },
          "metadata": {},
          "execution_count": 26
        }
      ]
    }
  ]
}