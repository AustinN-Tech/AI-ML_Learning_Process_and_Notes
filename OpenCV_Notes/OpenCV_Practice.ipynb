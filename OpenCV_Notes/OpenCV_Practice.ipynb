{
 "cells": [
  {
   "cell_type": "code",
   "id": "initial_id",
   "metadata": {
    "collapsed": true,
    "ExecuteTime": {
     "end_time": "2025-07-08T17:33:26.570189Z",
     "start_time": "2025-07-08T17:33:26.563450Z"
    }
   },
   "source": [
    "import cv2 as cv\n",
    "import numpy as np"
   ],
   "outputs": [],
   "execution_count": 68
  },
  {
   "metadata": {},
   "cell_type": "markdown",
   "source": "#### Reading Image:",
   "id": "8066ed12c5ba1094"
  },
  {
   "metadata": {
    "ExecuteTime": {
     "end_time": "2025-07-08T17:09:14.244929Z",
     "start_time": "2025-07-08T17:09:14.103678Z"
    }
   },
   "cell_type": "code",
   "source": "img = cv.imread('Photos/Chicken.jpg')",
   "id": "f52af0fc4bd04d8e",
   "outputs": [],
   "execution_count": 2
  },
  {
   "metadata": {},
   "cell_type": "markdown",
   "source": [
    "#### Here is the image I'll be working with:  \n",
    "![Chicken Image](Photos/Chicken.jpg)"
   ],
   "id": "81dddf3b11c7873a"
  },
  {
   "metadata": {},
   "cell_type": "markdown",
   "source": "#### Displaying Image:",
   "id": "3b9836f5e510705b"
  },
  {
   "metadata": {
    "ExecuteTime": {
     "end_time": "2025-07-08T17:09:36.569636Z",
     "start_time": "2025-07-08T17:09:30.368488Z"
    }
   },
   "cell_type": "code",
   "source": [
    "cv.imshow('Chicken', img)\n",
    "cv.waitKey(0)"
   ],
   "id": "41f7c5c87aef7846",
   "outputs": [
    {
     "data": {
      "text/plain": [
       "-1"
      ]
     },
     "execution_count": 3,
     "metadata": {},
     "output_type": "execute_result"
    }
   ],
   "execution_count": 3
  },
  {
   "metadata": {},
   "cell_type": "markdown",
   "source": "Image needs a resize, as its resolution is too big.",
   "id": "bb4fa93bab0c1648"
  },
  {
   "metadata": {},
   "cell_type": "markdown",
   "source": "#### Creating Resize Function:",
   "id": "5d94cf76acd8a6fb"
  },
  {
   "metadata": {
    "ExecuteTime": {
     "end_time": "2025-07-08T17:10:51.696970Z",
     "start_time": "2025-07-08T17:10:51.684412Z"
    }
   },
   "cell_type": "code",
   "source": [
    "def rescale_frame(frame, scale=0.75):\n",
    "    width = int(frame.shape[1] * scale) # rescaling width\n",
    "    height = int(frame.shape[0] * scale) # rescaling height\n",
    "    dimension = (width, height)\n",
    "    \n",
    "    return cv.resize(frame, dimension, interpolation=cv.INTER_AREA) # resizes the frame to a particular dimension"
   ],
   "id": "c9a3cb4720e2a866",
   "outputs": [],
   "execution_count": 4
  },
  {
   "metadata": {},
   "cell_type": "markdown",
   "source": "#### Applying and Showing Resized Image:",
   "id": "239fffcd4062b0b5"
  },
  {
   "metadata": {
    "ExecuteTime": {
     "end_time": "2025-07-08T17:11:11.570962Z",
     "start_time": "2025-07-08T17:11:11.553285Z"
    }
   },
   "cell_type": "code",
   "source": "resized_img = rescale_frame(img, scale=0.25)",
   "id": "8809b81d800532b6",
   "outputs": [],
   "execution_count": 5
  },
  {
   "metadata": {
    "ExecuteTime": {
     "end_time": "2025-07-08T17:11:58.836339Z",
     "start_time": "2025-07-08T17:11:50.533118Z"
    }
   },
   "cell_type": "code",
   "source": [
    "cv.imshow('Resized Image', resized_img)\n",
    "cv.waitKey(0)"
   ],
   "id": "9cfc27f6c278bfb8",
   "outputs": [
    {
     "data": {
      "text/plain": [
       "-1"
      ]
     },
     "execution_count": 6,
     "metadata": {},
     "output_type": "execute_result"
    }
   ],
   "execution_count": 6
  },
  {
   "metadata": {},
   "cell_type": "markdown",
   "source": "Now it is the perfect size!",
   "id": "82ddd162f31c0da3"
  },
  {
   "metadata": {},
   "cell_type": "markdown",
   "source": "#### Let's crop it to just show the rooster:",
   "id": "e5ce9fd1e7ac50a1"
  },
  {
   "metadata": {
    "ExecuteTime": {
     "end_time": "2025-07-08T17:19:57.777071Z",
     "start_time": "2025-07-08T17:19:54.652730Z"
    }
   },
   "cell_type": "code",
   "source": [
    "cropped = resized_img[150:500, 550:950]\n",
    "\n",
    "cv.imshow('Cropped', cropped)\n",
    "cv.waitKey(0)"
   ],
   "id": "be684f13c7c0470c",
   "outputs": [
    {
     "data": {
      "text/plain": [
       "-1"
      ]
     },
     "execution_count": 44,
     "metadata": {},
     "output_type": "execute_result"
    }
   ],
   "execution_count": 44
  },
  {
   "metadata": {},
   "cell_type": "markdown",
   "source": "Now the picture focuses just on the rooster.",
   "id": "39830b6a202419d5"
  },
  {
   "metadata": {},
   "cell_type": "markdown",
   "source": "### **Let's get the contours:**",
   "id": "7e2854c07958074e"
  },
  {
   "metadata": {
    "ExecuteTime": {
     "end_time": "2025-07-08T17:21:04.859448Z",
     "start_time": "2025-07-08T17:21:03.733714Z"
    }
   },
   "cell_type": "code",
   "source": [
    "# Grayscale:\n",
    "gray = cv.cvtColor(cropped, cv.COLOR_BGR2GRAY)\n",
    "\n",
    "cv.imshow('Gray', gray)\n",
    "cv.waitKey(0)"
   ],
   "id": "cf7e85edace87a04",
   "outputs": [
    {
     "data": {
      "text/plain": [
       "-1"
      ]
     },
     "execution_count": 48,
     "metadata": {},
     "output_type": "execute_result"
    }
   ],
   "execution_count": 48
  },
  {
   "metadata": {
    "ExecuteTime": {
     "end_time": "2025-07-08T17:20:43.541510Z",
     "start_time": "2025-07-08T17:20:42.073103Z"
    }
   },
   "cell_type": "code",
   "source": [
    "# Applying Blur:\n",
    "blur = cv.GaussianBlur(gray, (3, 3), 0)\n",
    "\n",
    "cv.imshow('Blur', blur)\n",
    "cv.waitKey(0)"
   ],
   "id": "fcfc183b48e58da0",
   "outputs": [
    {
     "data": {
      "text/plain": [
       "-1"
      ]
     },
     "execution_count": 46,
     "metadata": {},
     "output_type": "execute_result"
    }
   ],
   "execution_count": 46
  },
  {
   "metadata": {
    "ExecuteTime": {
     "end_time": "2025-07-08T17:21:16.104859Z",
     "start_time": "2025-07-08T17:21:14.716982Z"
    }
   },
   "cell_type": "code",
   "source": [
    "# Getting Edge Cascades:\n",
    "canny = cv.Canny(blur, 125, 175)\n",
    "\n",
    "cv.imshow('Canny', canny)\n",
    "cv.waitKey(0)"
   ],
   "id": "90648eac4ae6e2e0",
   "outputs": [
    {
     "data": {
      "text/plain": [
       "-1"
      ]
     },
     "execution_count": 50,
     "metadata": {},
     "output_type": "execute_result"
    }
   ],
   "execution_count": 50
  },
  {
   "metadata": {
    "ExecuteTime": {
     "end_time": "2025-07-08T17:21:33.821957Z",
     "start_time": "2025-07-08T17:21:33.803770Z"
    }
   },
   "cell_type": "code",
   "source": "contours, hierarchies = cv.findContours(canny, cv.RETR_LIST, cv.CHAIN_APPROX_SIMPLE)",
   "id": "18a3809c6c0133ec",
   "outputs": [
    {
     "name": "stdout",
     "output_type": "stream",
     "text": [
      "451 contours found\n"
     ]
    }
   ],
   "execution_count": 51
  },
  {
   "metadata": {},
   "cell_type": "markdown",
   "source": "#### Creating Blank image to put the contours on:",
   "id": "792bf314f1a5658b"
  },
  {
   "metadata": {
    "ExecuteTime": {
     "end_time": "2025-07-08T17:22:46.793088Z",
     "start_time": "2025-07-08T17:22:46.785994Z"
    }
   },
   "cell_type": "code",
   "source": "blank = np.zeros(cropped.shape, dtype='uint8')",
   "id": "7c5df81029c8ace8",
   "outputs": [],
   "execution_count": 54
  },
  {
   "metadata": {
    "ExecuteTime": {
     "end_time": "2025-07-08T17:26:35.186990Z",
     "start_time": "2025-07-08T17:26:34.010112Z"
    }
   },
   "cell_type": "code",
   "source": [
    "cv.drawContours(blank, contours, -1, (0,0,255), 1)\n",
    "\n",
    "cv.imshow('Contours Drawn', blank)\n",
    "cv.waitKey(0)"
   ],
   "id": "763820dad82d3eea",
   "outputs": [
    {
     "data": {
      "text/plain": [
       "-1"
      ]
     },
     "execution_count": 56,
     "metadata": {},
     "output_type": "execute_result"
    }
   ],
   "execution_count": 56
  },
  {
   "metadata": {},
   "cell_type": "markdown",
   "source": [
    "## *Final Result:*  \n",
    "  \n",
    "![Rooster Contours](Photos/Final_Output_Practice.png)"
   ],
   "id": "1ea05a84dcd84878"
  },
  {
   "metadata": {},
   "cell_type": "markdown",
   "source": "## *Applying a Mask:*",
   "id": "b1ac17bcf2ef0e5d"
  },
  {
   "metadata": {
    "ExecuteTime": {
     "end_time": "2025-07-08T17:35:31.934644Z",
     "start_time": "2025-07-08T17:35:30.637717Z"
    }
   },
   "cell_type": "code",
   "source": [
    "circle = cv.circle(np.zeros(cropped.shape[:2], dtype='uint8'), (210,180), 100, 255, -1)\n",
    "\n",
    "cv.imshow('Circle', circle)\n",
    "cv.waitKey(0)"
   ],
   "id": "572d31958c3192df",
   "outputs": [
    {
     "data": {
      "text/plain": [
       "-1"
      ]
     },
     "execution_count": 74,
     "metadata": {},
     "output_type": "execute_result"
    }
   ],
   "execution_count": 74
  },
  {
   "metadata": {
    "ExecuteTime": {
     "end_time": "2025-07-08T17:35:40.273349Z",
     "start_time": "2025-07-08T17:35:36.727358Z"
    }
   },
   "cell_type": "code",
   "source": [
    "masked = cv.bitwise_and(cropped, cropped, mask=circle)\n",
    "\n",
    "cv.imshow('Masked', masked)\n",
    "cv.waitKey(0)"
   ],
   "id": "7d2fba116fed4201",
   "outputs": [
    {
     "data": {
      "text/plain": [
       "-1"
      ]
     },
     "execution_count": 75,
     "metadata": {},
     "output_type": "execute_result"
    }
   ],
   "execution_count": 75
  }
 ],
 "metadata": {
  "kernelspec": {
   "display_name": "Python 3",
   "language": "python",
   "name": "python3"
  },
  "language_info": {
   "codemirror_mode": {
    "name": "ipython",
    "version": 2
   },
   "file_extension": ".py",
   "mimetype": "text/x-python",
   "name": "python",
   "nbconvert_exporter": "python",
   "pygments_lexer": "ipython2",
   "version": "2.7.6"
  }
 },
 "nbformat": 4,
 "nbformat_minor": 5
}
