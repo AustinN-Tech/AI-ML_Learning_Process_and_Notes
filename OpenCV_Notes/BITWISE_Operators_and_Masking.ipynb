{
 "cells": [
  {
   "metadata": {},
   "cell_type": "markdown",
   "source": "<h1><center>BITWISE Operators Notes </center></h1>",
   "id": "c95e34723a302848"
  },
  {
   "metadata": {},
   "cell_type": "markdown",
   "source": [
    "Bitwise operators are used to combine or manipulate binary images (masks) at the pixel level.  \n",
    "Each pixel is made of bits (binary: 0s and 1s), and these operations are performed bit by bit."
   ],
   "id": "9064dd8c2c5cafb6"
  },
  {
   "cell_type": "code",
   "id": "initial_id",
   "metadata": {
    "collapsed": true,
    "ExecuteTime": {
     "end_time": "2025-07-07T22:14:07.360253Z",
     "start_time": "2025-07-07T22:14:07.351435Z"
    }
   },
   "source": [
    "import cv2 as cv\n",
    "import numpy as np\n",
    "from dask.array import bitwise_and"
   ],
   "outputs": [],
   "execution_count": 2
  },
  {
   "metadata": {},
   "cell_type": "markdown",
   "source": "### Creating Images to Work With:",
   "id": "279f7bcb37af3936"
  },
  {
   "metadata": {
    "ExecuteTime": {
     "end_time": "2025-07-07T22:14:34.532866Z",
     "start_time": "2025-07-07T22:14:34.523122Z"
    }
   },
   "cell_type": "code",
   "source": [
    "# Creating Blank Image:\n",
    "blank = np.zeros((400,400), dtype='uint8')"
   ],
   "id": "c3d1fac5bb8eee59",
   "outputs": [],
   "execution_count": 3
  },
  {
   "metadata": {
    "ExecuteTime": {
     "end_time": "2025-07-07T22:17:25.339894Z",
     "start_time": "2025-07-07T22:17:25.332997Z"
    }
   },
   "cell_type": "code",
   "source": [
    "rectangle = cv.rectangle(blank.copy(), (30,30), (370,370), 255, -1)\n",
    "circle = cv.circle(blank.copy(), (200,200), 200, 255, -1)"
   ],
   "id": "c6fd1663da1bff4d",
   "outputs": [],
   "execution_count": 6
  },
  {
   "metadata": {
    "ExecuteTime": {
     "end_time": "2025-07-07T22:17:28.919397Z",
     "start_time": "2025-07-07T22:17:26.630662Z"
    }
   },
   "cell_type": "code",
   "source": [
    "cv.imshow('rectangle', rectangle)\n",
    "cv.imshow('circle', circle)\n",
    "\n",
    "cv.waitKey(0)"
   ],
   "id": "e7e2dfd57f3beee0",
   "outputs": [
    {
     "data": {
      "text/plain": [
       "-1"
      ]
     },
     "execution_count": 7,
     "metadata": {},
     "output_type": "execute_result"
    }
   ],
   "execution_count": 7
  },
  {
   "metadata": {},
   "cell_type": "markdown",
   "source": "### First Bitwise Operator: *bitwise AND*",
   "id": "e4f4a9d8b59944e6"
  },
  {
   "metadata": {
    "ExecuteTime": {
     "end_time": "2025-07-07T22:20:00.624375Z",
     "start_time": "2025-07-07T22:19:58.750486Z"
    }
   },
   "cell_type": "code",
   "source": [
    "bitwise_and = cv.bitwise_and(rectangle, circle)\n",
    "\n",
    "cv.imshow('bitwise_and', bitwise_and)\n",
    "cv.waitKey(0)"
   ],
   "id": "fe62caa8af46356c",
   "outputs": [
    {
     "data": {
      "text/plain": [
       "-1"
      ]
     },
     "execution_count": 8,
     "metadata": {},
     "output_type": "execute_result"
    }
   ],
   "execution_count": 8
  },
  {
   "metadata": {},
   "cell_type": "markdown",
   "source": "So it took those two images, placed them ontop of each other, and returned the intersection. ",
   "id": "9cbfa82e67c36e00"
  },
  {
   "metadata": {},
   "cell_type": "markdown",
   "source": "### 2nd: *bitwise OR*",
   "id": "464d84482d626b03"
  },
  {
   "metadata": {
    "ExecuteTime": {
     "end_time": "2025-07-07T22:22:00.659605Z",
     "start_time": "2025-07-07T22:21:37.470427Z"
    }
   },
   "cell_type": "code",
   "source": [
    "bitwise_or = cv.bitwise_or(rectangle, circle)\n",
    "\n",
    "cv.imshow('bitwise_or', bitwise_or)\n",
    "cv.waitKey(0)"
   ],
   "id": "e050f203361438de",
   "outputs": [
    {
     "data": {
      "text/plain": [
       "-1"
      ]
     },
     "execution_count": 9,
     "metadata": {},
     "output_type": "execute_result"
    }
   ],
   "execution_count": 9
  },
  {
   "metadata": {},
   "cell_type": "markdown",
   "source": "This method returns the intersection, as well as the non-intersecting.",
   "id": "8dc08c715178f3ce"
  },
  {
   "metadata": {},
   "cell_type": "markdown",
   "source": "### 3rd: *bitwise XOR*",
   "id": "8de506fff81cb956"
  },
  {
   "metadata": {
    "ExecuteTime": {
     "end_time": "2025-07-07T22:22:52.702036Z",
     "start_time": "2025-07-07T22:22:44.957467Z"
    }
   },
   "cell_type": "code",
   "source": [
    "bitwise_xor = cv.bitwise_xor(rectangle, circle)\n",
    "\n",
    "cv.imshow('bitwise_xor', bitwise_xor)\n",
    "cv.waitKey(0)"
   ],
   "id": "3c23be31014ae6e3",
   "outputs": [
    {
     "data": {
      "text/plain": [
       "-1"
      ]
     },
     "execution_count": 10,
     "metadata": {},
     "output_type": "execute_result"
    }
   ],
   "execution_count": 10
  },
  {
   "metadata": {},
   "cell_type": "markdown",
   "source": "Returns the non-intersecting regions.",
   "id": "e437e9bba118929"
  },
  {
   "metadata": {},
   "cell_type": "markdown",
   "source": "### 4th: *bitwise NOT*",
   "id": "53638adb4760cf5f"
  },
  {
   "metadata": {
    "ExecuteTime": {
     "end_time": "2025-07-07T22:25:03.797430Z",
     "start_time": "2025-07-07T22:25:02.193570Z"
    }
   },
   "cell_type": "code",
   "source": [
    "bitwise_not = cv.bitwise_not(rectangle) # Only takes in one image.\n",
    "\n",
    "cv.imshow('RECTANGLE_not', bitwise_not)\n",
    "cv.waitKey(0)"
   ],
   "id": "574d0913a4375d",
   "outputs": [
    {
     "data": {
      "text/plain": [
       "-1"
      ]
     },
     "execution_count": 12,
     "metadata": {},
     "output_type": "execute_result"
    }
   ],
   "execution_count": 12
  },
  {
   "metadata": {},
   "cell_type": "markdown",
   "source": "It doesn't return anything, it inverts the binary color.",
   "id": "a2386d65e2b540e0"
  },
  {
   "metadata": {},
   "cell_type": "markdown",
   "source": "<h1><center>Masking Notes</center></h1>",
   "id": "465e2a3a89c6a624"
  },
  {
   "metadata": {},
   "cell_type": "markdown",
   "source": [
    "Allows us to focus on certain parts of an image that we want to focus on.  \n",
    "Basically, masking means applying a filter that selectively shows or hides parts of an image based on a mask.  \n",
    "Grayscale is a mask that only keeps black and white and filters everything else."
   ],
   "id": "2357d6f7c594da3d"
  },
  {
   "metadata": {
    "ExecuteTime": {
     "end_time": "2025-07-07T22:27:02.717648Z",
     "start_time": "2025-07-07T22:27:02.712237Z"
    }
   },
   "cell_type": "code",
   "source": [
    "import cv2 as cv\n",
    "import numpy as np"
   ],
   "id": "ba72aedb1345662",
   "outputs": [],
   "execution_count": 13
  },
  {
   "metadata": {
    "ExecuteTime": {
     "end_time": "2025-07-07T22:45:16.503487Z",
     "start_time": "2025-07-07T22:45:16.481952Z"
    }
   },
   "cell_type": "code",
   "source": [
    "img = cv.imread('Photos/cats.jpg')\n",
    "blank = np.zeros(img.shape[:2], dtype='uint8') # Dimensions of the mask must be the same as the image you apply it to."
   ],
   "id": "4cfc50a7024f3ee5",
   "outputs": [],
   "execution_count": 37
  },
  {
   "metadata": {},
   "cell_type": "markdown",
   "source": "### Applying Basic Mask",
   "id": "9659bfda4c6c8b6b"
  },
  {
   "metadata": {
    "ExecuteTime": {
     "end_time": "2025-07-07T22:35:28.825439Z",
     "start_time": "2025-07-07T22:35:27.386973Z"
    }
   },
   "cell_type": "code",
   "source": [
    "mask = cv.circle(blank.copy(), (img.shape[1]//2, img.shape[0]//2), 100, 255, -1) # Circle Mask\n",
    "mask2 = cv.rectangle(blank.copy(), (img.shape[1]//2, img.shape[0]//2), (img.shape[1]//2 + 100, img.shape[0]//2 + 100), 255, -1) # Rectangle Mask\n",
    "\n",
    "cv.imshow('mask', mask)\n",
    "cv.waitKey(0)"
   ],
   "id": "88c2ee9806ab4f1b",
   "outputs": [
    {
     "data": {
      "text/plain": [
       "-1"
      ]
     },
     "execution_count": 22,
     "metadata": {},
     "output_type": "execute_result"
    }
   ],
   "execution_count": 22
  },
  {
   "metadata": {
    "ExecuteTime": {
     "end_time": "2025-07-07T22:35:34.692307Z",
     "start_time": "2025-07-07T22:35:32.829378Z"
    }
   },
   "cell_type": "code",
   "source": [
    "# Specify the source image and the mask parameter:\n",
    "masked = cv.bitwise_and(img, img, mask=mask)\n",
    "\n",
    "cv.imshow('masked', masked)\n",
    "cv.waitKey(0)"
   ],
   "id": "54af85f159c5fd6c",
   "outputs": [
    {
     "data": {
      "text/plain": [
       "-1"
      ]
     },
     "execution_count": 23,
     "metadata": {},
     "output_type": "execute_result"
    }
   ],
   "execution_count": 23
  },
  {
   "metadata": {},
   "cell_type": "markdown",
   "source": "### Making a Different Mask Shape",
   "id": "e3aff94bb6852a2f"
  },
  {
   "metadata": {
    "ExecuteTime": {
     "end_time": "2025-07-07T22:45:57.757757Z",
     "start_time": "2025-07-07T22:45:57.740755Z"
    }
   },
   "cell_type": "code",
   "source": [
    "# Getting a Different Image:\n",
    "img = cv.imread('Photos/cats_2.jpg')\n",
    "blank = np.zeros(img.shape[:2], dtype='uint8')"
   ],
   "id": "3ea2314ddc796af5",
   "outputs": [],
   "execution_count": 38
  },
  {
   "metadata": {
    "ExecuteTime": {
     "end_time": "2025-07-07T22:45:58.238634Z",
     "start_time": "2025-07-07T22:45:58.223336Z"
    }
   },
   "cell_type": "code",
   "source": [
    "# Creating Shape:\n",
    "circle = cv.circle(blank.copy(), (img.shape[1]//2 + 45, img.shape[0]//2), 100, 255, -1)\n",
    "rectangle = cv.rectangle(blank.copy(), (30,30), (370,370), 255, -1)\n",
    "\n",
    "weird_shape = cv.bitwise_and(circle, rectangle)"
   ],
   "id": "e412603c7162c744",
   "outputs": [],
   "execution_count": 39
  },
  {
   "metadata": {
    "ExecuteTime": {
     "end_time": "2025-07-07T22:46:01.418446Z",
     "start_time": "2025-07-07T22:45:59.490767Z"
    }
   },
   "cell_type": "code",
   "source": [
    "masked = cv.bitwise_and(img, img, mask=weird_shape)\n",
    "\n",
    "cv.imshow('masked', masked)\n",
    "cv.waitKey(0)"
   ],
   "id": "3268a414348c4ae1",
   "outputs": [
    {
     "data": {
      "text/plain": [
       "-1"
      ]
     },
     "execution_count": 40,
     "metadata": {},
     "output_type": "execute_result"
    }
   ],
   "execution_count": 40
  }
 ],
 "metadata": {
  "kernelspec": {
   "display_name": "Python 3",
   "language": "python",
   "name": "python3"
  },
  "language_info": {
   "codemirror_mode": {
    "name": "ipython",
    "version": 2
   },
   "file_extension": ".py",
   "mimetype": "text/x-python",
   "name": "python",
   "nbconvert_exporter": "python",
   "pygments_lexer": "ipython2",
   "version": "2.7.6"
  }
 },
 "nbformat": 4,
 "nbformat_minor": 5
}
