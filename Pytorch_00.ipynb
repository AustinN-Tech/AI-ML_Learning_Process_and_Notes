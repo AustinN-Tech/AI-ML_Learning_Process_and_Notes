{
  "nbformat": 4,
  "nbformat_minor": 0,
  "metadata": {
    "colab": {
      "provenance": [],
      "gpuType": "T4",
      "authorship_tag": "ABX9TyPltRsW8bTSUKEYyt2nbDFD"
    },
    "kernelspec": {
      "name": "python3",
      "display_name": "Python 3"
    },
    "language_info": {
      "name": "python"
    }
  },
  "cells": [
    {
      "cell_type": "markdown",
      "source": [
        "# **Pytorch Fundamentals**"
      ],
      "metadata": {
        "id": "wZfi3x6I9rBa"
      }
    },
    {
      "cell_type": "code",
      "source": [
        "import torch\n",
        "import pandas as pd\n",
        "import numpy as np\n",
        "import matplotlib.pyplot as plt\n",
        "\n",
        "print(torch.__version__)"
      ],
      "metadata": {
        "colab": {
          "base_uri": "https://localhost:8080/"
        },
        "id": "Nv05s5W79NpB",
        "outputId": "efdb00d4-b9a5-4d52-cce2-748ea935deaa"
      },
      "execution_count": null,
      "outputs": [
        {
          "output_type": "stream",
          "name": "stdout",
          "text": [
            "2.6.0+cu124\n"
          ]
        }
      ]
    },
    {
      "cell_type": "markdown",
      "source": [
        "## Introduction to Tensors  \n",
        "\n",
        "A vector is a measure of magnitude in a given direction, represented as an array of numbers like (x, y, z).  \n",
        "If a vector is a 1D array, a matrix is a 2D array, then a tensor is basically a multidimensional array.\n",
        "Tensors are very good for computation in deep learning as they allow for fast processing.  \n",
        "All arrays have a tensor rank. The tensor rank is given by the amount of dimensions (Rank 1 = Vector, Rank 2 = Matrix, etc...)  \n",
        "  \n",
        "In Pytorch, all types of these arrays are still of a \"tensor\" data type.\n",
        "\n",
        "### Creating Tensors"
      ],
      "metadata": {
        "id": "srtBJdIZAUV9"
      }
    },
    {
      "cell_type": "code",
      "source": [
        "# scalar\n",
        "scalar = torch.tensor(7)\n",
        "scalar"
      ],
      "metadata": {
        "colab": {
          "base_uri": "https://localhost:8080/"
        },
        "id": "geAo6SPC9U5C",
        "outputId": "4481efa6-78f5-4043-b257-cdb3dc6a4c50"
      },
      "execution_count": null,
      "outputs": [
        {
          "output_type": "execute_result",
          "data": {
            "text/plain": [
              "tensor(7)"
            ]
          },
          "metadata": {},
          "execution_count": 4
        }
      ]
    },
    {
      "cell_type": "markdown",
      "source": [
        "Pytorch tensors are creating using\n",
        "\n",
        "```\n",
        "torch.tensor()\n",
        "```\n",
        "\n",
        "Pytorch Documentation Definition:  \n",
        "A torch.Tensor is a multi-dimensional matrix containing elements of a single data type."
      ],
      "metadata": {
        "id": "9BPXPkAmBthM"
      }
    },
    {
      "cell_type": "code",
      "source": [
        "scalar.ndim # checking the number of dimensions"
      ],
      "metadata": {
        "colab": {
          "base_uri": "https://localhost:8080/"
        },
        "id": "EMpc2Q56Bkhx",
        "outputId": "ebeddab2-a5c4-46cf-a760-7e344145e6b9"
      },
      "execution_count": null,
      "outputs": [
        {
          "output_type": "execute_result",
          "data": {
            "text/plain": [
              "0"
            ]
          },
          "metadata": {},
          "execution_count": 6
        }
      ]
    },
    {
      "cell_type": "code",
      "source": [
        "scalar.item() # changes it back to a regular python integer"
      ],
      "metadata": {
        "colab": {
          "base_uri": "https://localhost:8080/"
        },
        "id": "-ky2pxX7CUaq",
        "outputId": "e19cdcf6-95fd-4fe1-ebde-391535764810"
      },
      "execution_count": null,
      "outputs": [
        {
          "output_type": "execute_result",
          "data": {
            "text/plain": [
              "7"
            ]
          },
          "metadata": {},
          "execution_count": 7
        }
      ]
    },
    {
      "cell_type": "code",
      "source": [
        "# Vector - 1D Array\n",
        "vector = torch.tensor([7, 7])\n",
        "vector"
      ],
      "metadata": {
        "colab": {
          "base_uri": "https://localhost:8080/"
        },
        "id": "EctmLFvsCl54",
        "outputId": "bce095de-fa05-4877-aa21-3dc909e68f66"
      },
      "execution_count": null,
      "outputs": [
        {
          "output_type": "execute_result",
          "data": {
            "text/plain": [
              "tensor([7, 7])"
            ]
          },
          "metadata": {},
          "execution_count": 8
        }
      ]
    },
    {
      "cell_type": "code",
      "source": [
        "vector.ndim # 1 dimension (# of square brackets)"
      ],
      "metadata": {
        "colab": {
          "base_uri": "https://localhost:8080/"
        },
        "id": "yRLJVVpvC0C9",
        "outputId": "c149c531-1f9a-497f-cc9e-551d8d289299"
      },
      "execution_count": null,
      "outputs": [
        {
          "output_type": "execute_result",
          "data": {
            "text/plain": [
              "1"
            ]
          },
          "metadata": {},
          "execution_count": 9
        }
      ]
    },
    {
      "cell_type": "code",
      "source": [
        "vector.shape # shape of the array (2 by 1 elements)"
      ],
      "metadata": {
        "colab": {
          "base_uri": "https://localhost:8080/"
        },
        "id": "5u3UxkUOC3i5",
        "outputId": "b1bbcc27-059b-44e9-d90e-6fd537541d73"
      },
      "execution_count": null,
      "outputs": [
        {
          "output_type": "execute_result",
          "data": {
            "text/plain": [
              "torch.Size([2])"
            ]
          },
          "metadata": {},
          "execution_count": 10
        }
      ]
    },
    {
      "cell_type": "code",
      "source": [
        "# MATRIX - 2D Array\n",
        "MATRIX = torch.tensor([[7, 8],\n",
        "                       [9, 8]])\n",
        "MATRIX"
      ],
      "metadata": {
        "colab": {
          "base_uri": "https://localhost:8080/"
        },
        "id": "JvXstS7wC3Oa",
        "outputId": "0e42e8de-9b07-47f7-eba3-4182d8500af5"
      },
      "execution_count": null,
      "outputs": [
        {
          "output_type": "execute_result",
          "data": {
            "text/plain": [
              "tensor([[7, 8],\n",
              "        [9, 8]])"
            ]
          },
          "metadata": {},
          "execution_count": 11
        }
      ]
    },
    {
      "cell_type": "code",
      "source": [
        "MATRIX.ndim # 2 Square brackets:"
      ],
      "metadata": {
        "colab": {
          "base_uri": "https://localhost:8080/"
        },
        "id": "FK1ot-elDSIK",
        "outputId": "d1e44e1d-7f06-4ae1-9290-5738ff95ec28"
      },
      "execution_count": null,
      "outputs": [
        {
          "output_type": "execute_result",
          "data": {
            "text/plain": [
              "2"
            ]
          },
          "metadata": {},
          "execution_count": 12
        }
      ]
    },
    {
      "cell_type": "code",
      "source": [
        "MATRIX[0, 1] # Indexes like a normal array"
      ],
      "metadata": {
        "colab": {
          "base_uri": "https://localhost:8080/"
        },
        "id": "cDvGcY-gDWt6",
        "outputId": "9e2930ef-f96b-40f7-d4f6-a9dac71761e4"
      },
      "execution_count": null,
      "outputs": [
        {
          "output_type": "execute_result",
          "data": {
            "text/plain": [
              "tensor(8)"
            ]
          },
          "metadata": {},
          "execution_count": 13
        }
      ]
    },
    {
      "cell_type": "code",
      "source": [
        "MATRIX.shape # 2 by 2"
      ],
      "metadata": {
        "colab": {
          "base_uri": "https://localhost:8080/"
        },
        "id": "DjIxA-1xDaQu",
        "outputId": "170f4cb7-524b-4e18-ebe9-f171ec7f2841"
      },
      "execution_count": null,
      "outputs": [
        {
          "output_type": "execute_result",
          "data": {
            "text/plain": [
              "torch.Size([2, 2])"
            ]
          },
          "metadata": {},
          "execution_count": 14
        }
      ]
    },
    {
      "cell_type": "code",
      "source": [
        "# TENSOR - 3D array\n",
        "TENSOR = torch.tensor([[[1, 2, 3],\n",
        "                        [3, 6, 9],\n",
        "                        [2, 4, 5]]])\n",
        "TENSOR"
      ],
      "metadata": {
        "colab": {
          "base_uri": "https://localhost:8080/"
        },
        "id": "qCKCzYMkDgv1",
        "outputId": "6a52d696-7862-4959-a5c5-0adc963a5cfb"
      },
      "execution_count": null,
      "outputs": [
        {
          "output_type": "execute_result",
          "data": {
            "text/plain": [
              "tensor([[[1, 2, 3],\n",
              "         [3, 6, 9],\n",
              "         [2, 4, 5]]])"
            ]
          },
          "metadata": {},
          "execution_count": 15
        }
      ]
    },
    {
      "cell_type": "code",
      "source": [
        "TENSOR.ndim # 3 Dimensions"
      ],
      "metadata": {
        "colab": {
          "base_uri": "https://localhost:8080/"
        },
        "id": "pptm2SSnD1DC",
        "outputId": "b03ded57-2e4e-48ac-fb2a-d0eb6942e925"
      },
      "execution_count": null,
      "outputs": [
        {
          "output_type": "execute_result",
          "data": {
            "text/plain": [
              "3"
            ]
          },
          "metadata": {},
          "execution_count": 16
        }
      ]
    },
    {
      "cell_type": "code",
      "source": [
        "TENSOR.shape # we have one 3 by 3 shaped tensor"
      ],
      "metadata": {
        "colab": {
          "base_uri": "https://localhost:8080/"
        },
        "id": "_5pw4cgED4wN",
        "outputId": "449fb89b-3419-4037-cd5b-99e6c759fb8a"
      },
      "execution_count": null,
      "outputs": [
        {
          "output_type": "execute_result",
          "data": {
            "text/plain": [
              "torch.Size([1, 3, 3])"
            ]
          },
          "metadata": {},
          "execution_count": 17
        }
      ]
    },
    {
      "cell_type": "code",
      "source": [
        "TENSOR[0]"
      ],
      "metadata": {
        "colab": {
          "base_uri": "https://localhost:8080/"
        },
        "id": "8W_waxyKEFNq",
        "outputId": "356efeca-8e2f-45c9-cc87-1d47fa75a5f7"
      },
      "execution_count": null,
      "outputs": [
        {
          "output_type": "execute_result",
          "data": {
            "text/plain": [
              "tensor([[1, 2, 3],\n",
              "        [3, 6, 9],\n",
              "        [2, 4, 5]])"
            ]
          },
          "metadata": {},
          "execution_count": 18
        }
      ]
    },
    {
      "cell_type": "code",
      "source": [
        "TENSOR = torch.tensor([[[[3, 3, 4], [1, 2, 4], [1 , 2, 3]],\n",
        "                        [[3, 3, 4], [1, 2, 4], [1 , 2, 3]]]])\n",
        "print( TENSOR.shape )\n",
        "print( TENSOR.ndim )"
      ],
      "metadata": {
        "colab": {
          "base_uri": "https://localhost:8080/"
        },
        "id": "AoAeWcAuExZQ",
        "outputId": "6db478c5-3dfc-467b-ef64-a01d6ea49f1f"
      },
      "execution_count": null,
      "outputs": [
        {
          "output_type": "stream",
          "name": "stdout",
          "text": [
            "torch.Size([1, 2, 3, 3])\n",
            "4\n"
          ]
        }
      ]
    },
    {
      "cell_type": "markdown",
      "source": [
        "##### So basically the dimensions start at the blue brackets (since the arry is literally everything incomposed in the pink brackets).  \n",
        "##### There is one blue bracket so 1 dimension of 2 (two yellow brackets inside the blue brackets) dimensions of 3 (three purple brackets in each yellow bracket) of 3 (3 elements inside each purple bracket).\n",
        "\n",
        "#### In summary, it is how many elements are in each bracket."
      ],
      "metadata": {
        "id": "EcRU9xs5GAQH"
      }
    },
    {
      "cell_type": "markdown",
      "source": [
        "### Random Tensors  \n",
        "  \n",
        "Why random tensors?  \n",
        "Random tensors are important because the way many neural networks learn is that they start with tensors full of random numbesr and then adjust those randoms numbers to better represent the data.\n",
        "\n",
        "\n",
        "`Start w/ random numbers -> Look at data -> Update random numbers -> Look at data -> Update random numbers`\n",
        "\n"
      ],
      "metadata": {
        "id": "v3mrtjg3GhUj"
      }
    },
    {
      "cell_type": "code",
      "source": [
        "# Create a random tensor of size (3, 4)\n",
        "random_tensor = torch.rand(3, 4)\n",
        "random_tensor"
      ],
      "metadata": {
        "colab": {
          "base_uri": "https://localhost:8080/"
        },
        "id": "TatEl8m8Ggps",
        "outputId": "3931587d-1c05-4290-dd40-70124dce5c5f"
      },
      "execution_count": null,
      "outputs": [
        {
          "output_type": "execute_result",
          "data": {
            "text/plain": [
              "tensor([[0.3386, 0.2039, 0.4300, 0.4412],\n",
              "        [0.2629, 0.2799, 0.1775, 0.8895],\n",
              "        [0.5095, 0.4444, 0.5690, 0.8579]])"
            ]
          },
          "metadata": {},
          "execution_count": 24
        }
      ]
    },
    {
      "cell_type": "code",
      "source": [
        "random_tensor.ndim # 2 Dimensions (3 by 4)"
      ],
      "metadata": {
        "colab": {
          "base_uri": "https://localhost:8080/"
        },
        "id": "osS0h4NzHfIG",
        "outputId": "60858c9b-10b3-42e8-b18c-ada69cfc6d18"
      },
      "execution_count": null,
      "outputs": [
        {
          "output_type": "execute_result",
          "data": {
            "text/plain": [
              "2"
            ]
          },
          "metadata": {},
          "execution_count": 25
        }
      ]
    },
    {
      "cell_type": "code",
      "source": [
        "# Create a random tensor w/ similar shape to an image tensor\n",
        "random_image_size_tensor = torch.rand(size=(244, 244, 3)) # height, width, color changes (R, G, B)\n",
        "random_image_size_tensor.shape, random_image_size_tensor.ndim"
      ],
      "metadata": {
        "colab": {
          "base_uri": "https://localhost:8080/"
        },
        "id": "XK1jBKzgHs7I",
        "outputId": "9e25763d-7ab3-4a8e-e59b-b2a1a7fa92ae"
      },
      "execution_count": null,
      "outputs": [
        {
          "output_type": "execute_result",
          "data": {
            "text/plain": [
              "(torch.Size([244, 244, 3]), 3)"
            ]
          },
          "metadata": {},
          "execution_count": 26
        }
      ]
    },
    {
      "cell_type": "markdown",
      "source": [
        "So images can be represented as tensors (tensors are very similar to numpy arrays, which images basically are)  \n",
        "  \n",
        "##### Also the \"size=\" is an optional part of the size parameter. It can go either way when creating tensors."
      ],
      "metadata": {
        "id": "jYwDl1QBIzP2"
      }
    },
    {
      "cell_type": "markdown",
      "source": [
        "### Zeros and ones"
      ],
      "metadata": {
        "id": "Sqp6iAmoJoaV"
      }
    },
    {
      "cell_type": "code",
      "source": [
        "# Create a tensor of all zeros\n",
        "zero = torch.zeros(size=(3, 4))\n",
        "# Useful for creating masks, as when multiplying tensors by zero, they become zero.\n",
        "zero"
      ],
      "metadata": {
        "colab": {
          "base_uri": "https://localhost:8080/"
        },
        "id": "rlrUAC_AJY-f",
        "outputId": "80091da1-f91b-442e-b490-83bd079b54e2"
      },
      "execution_count": null,
      "outputs": [
        {
          "output_type": "execute_result",
          "data": {
            "text/plain": [
              "tensor([[0., 0., 0., 0.],\n",
              "        [0., 0., 0., 0.],\n",
              "        [0., 0., 0., 0.]])"
            ]
          },
          "metadata": {},
          "execution_count": 27
        }
      ]
    },
    {
      "cell_type": "code",
      "source": [
        "# Create a tensor of all ones\n",
        "one = torch.ones(size=(3,4))\n",
        "one"
      ],
      "metadata": {
        "colab": {
          "base_uri": "https://localhost:8080/"
        },
        "id": "T3mF2StZJzq1",
        "outputId": "bb11cb57-098d-4814-f05e-2eb953b55701"
      },
      "execution_count": null,
      "outputs": [
        {
          "output_type": "execute_result",
          "data": {
            "text/plain": [
              "tensor([[1., 1., 1., 1.],\n",
              "        [1., 1., 1., 1.],\n",
              "        [1., 1., 1., 1.]])"
            ]
          },
          "metadata": {},
          "execution_count": 28
        }
      ]
    },
    {
      "cell_type": "code",
      "source": [
        "one.dtype # Default datatype is .float"
      ],
      "metadata": {
        "colab": {
          "base_uri": "https://localhost:8080/"
        },
        "id": "RQqYZI1NKCsu",
        "outputId": "78e54eaf-321e-478d-c47c-b97e1e368b27"
      },
      "execution_count": null,
      "outputs": [
        {
          "output_type": "execute_result",
          "data": {
            "text/plain": [
              "torch.float32"
            ]
          },
          "metadata": {},
          "execution_count": 29
        }
      ]
    },
    {
      "cell_type": "markdown",
      "source": [
        "### Creating a range of tensors and tensors-like"
      ],
      "metadata": {
        "id": "b908sEOPKS7m"
      }
    },
    {
      "cell_type": "code",
      "source": [
        "# Use torch.arange(start, end, step)\n",
        "one_to_nine = torch.arange(1, 10, step=3) # Starts indexing out zero, so this goes 1-9. Stepsize of 3."
      ],
      "metadata": {
        "id": "tsWcd5HjKVwy"
      },
      "execution_count": null,
      "outputs": []
    },
    {
      "cell_type": "code",
      "source": [
        "# Creating tensors like\n",
        "three_zeros = torch.zeros_like(input=one_to_nine) # creates a new tensor with old tensor's shape\n",
        "three_zeros"
      ],
      "metadata": {
        "colab": {
          "base_uri": "https://localhost:8080/"
        },
        "id": "9R4LkY1hK3G5",
        "outputId": "d8574ee0-47bc-4f84-8ac4-9fc8988e1ff8"
      },
      "execution_count": null,
      "outputs": [
        {
          "output_type": "execute_result",
          "data": {
            "text/plain": [
              "tensor([0, 0, 0])"
            ]
          },
          "metadata": {},
          "execution_count": 40
        }
      ]
    },
    {
      "cell_type": "markdown",
      "source": [
        "### Tensor Datatypes  \n",
        "  \n",
        "**Note:** Tensor datatypes are one of the 3 big errors encountered with Pytorch & deep learning:  \n",
        "1. Tensors not right datatype\n",
        "2. Tensors not right shape\n",
        "3. Tensors not on the right device"
      ],
      "metadata": {
        "id": "m9vATK2KLfgv"
      }
    },
    {
      "cell_type": "code",
      "source": [
        "# Float 32 tensor\n",
        "float_32_tensor = torch.tensor([3.0, 6.0, 9.0],\n",
        "                               dtype=None, # What datatype is the tensor (float32 is default)\n",
        "                               device=None, # What device is your tensor on (CPU is default)\n",
        "                               requires_grad=False) # Whether or not to track gradients w/ this tensors operations"
      ],
      "metadata": {
        "id": "lGYl2Dm5LhAx"
      },
      "execution_count": null,
      "outputs": []
    },
    {
      "cell_type": "markdown",
      "source": [
        "A single-precision floating point is called a float 32.  \n",
        "Half-precision is called float 16.  \n",
        "If you want to compute faster but sacrifice detail, you can use float 16. If you need more precision, you might go up to float 64."
      ],
      "metadata": {
        "id": "yVnYtvkgMTOE"
      }
    },
    {
      "cell_type": "code",
      "source": [
        "# Converting Datatypes\n",
        "float_16_tensor = float_32_tensor.type(torch.float16)\n",
        "float_16_tensor"
      ],
      "metadata": {
        "colab": {
          "base_uri": "https://localhost:8080/"
        },
        "id": "RIykaz9wLyj-",
        "outputId": "c9e56146-92d1-44e4-9634-63c8b9961f00"
      },
      "execution_count": null,
      "outputs": [
        {
          "output_type": "execute_result",
          "data": {
            "text/plain": [
              "tensor([3., 6., 9.], dtype=torch.float16)"
            ]
          },
          "metadata": {},
          "execution_count": 43
        }
      ]
    }
  ]
}