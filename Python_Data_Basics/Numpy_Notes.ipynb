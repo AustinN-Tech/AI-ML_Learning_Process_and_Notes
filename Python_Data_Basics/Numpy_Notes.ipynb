{
 "cells": [
  {
   "metadata": {},
   "cell_type": "markdown",
   "source": "<h1><center> NumPy Notes </center></h1>",
   "id": "f462db0596715251"
  },
  {
   "metadata": {},
   "cell_type": "markdown",
   "source": [
    "### **Comparing Python lists and NumPy arrays**\n",
    "\n",
    "#### Here is where they are similar:\n"
   ],
   "id": "dc353d0de814801d"
  },
  {
   "cell_type": "code",
   "id": "initial_id",
   "metadata": {
    "collapsed": true,
    "ExecuteTime": {
     "end_time": "2025-06-14T01:02:44.012025Z",
     "start_time": "2025-06-14T01:02:43.998013Z"
    }
   },
   "source": [
    "# Normal Python lists:\n",
    "\n",
    "a = [1,2,3,4,5]\n",
    "print(a)\n",
    "print(a[1])\n",
    "print(a[-1])\n",
    "print(a[1:4])"
   ],
   "outputs": [
    {
     "name": "stdout",
     "output_type": "stream",
     "text": [
      "[1, 2, 3, 4, 5]\n",
      "2\n",
      "5\n",
      "[2, 3, 4]\n"
     ]
    }
   ],
   "execution_count": 1
  },
  {
   "metadata": {
    "ExecuteTime": {
     "end_time": "2025-06-16T23:27:11.479484Z",
     "start_time": "2025-06-16T23:27:11.230237Z"
    }
   },
   "cell_type": "code",
   "source": [
    "# NumPy arrays:\n",
    "import numpy as np\n",
    "\n",
    "a = np.array([1,2,3,4,5])\n",
    "print(a)\n",
    "print( type(a) ) #getting the type\n",
    "\n",
    "# Works like normal Python lists\n",
    "print(a)\n",
    "print(a[1])\n",
    "print(a[1:])\n",
    "a[2] = 10 # assignment\n",
    "print(a)"
   ],
   "id": "1d6dbb79286072e9",
   "outputs": [
    {
     "name": "stdout",
     "output_type": "stream",
     "text": [
      "[1 2 3 4 5]\n",
      "<class 'numpy.ndarray'>\n",
      "[1 2 3 4 5]\n",
      "2\n",
      "[2 3 4 5]\n",
      "[ 1  2 10  4  5]\n"
     ]
    }
   ],
   "execution_count": 3
  },
  {
   "metadata": {},
   "cell_type": "markdown",
   "source": "#### Here is where they differ:",
   "id": "e1008bc6977e0749"
  },
  {
   "metadata": {
    "ExecuteTime": {
     "end_time": "2025-06-16T22:51:36.155156Z",
     "start_time": "2025-06-16T22:51:36.145175Z"
    }
   },
   "cell_type": "code",
   "source": [
    "import numpy as np\n",
    "\n",
    "# Dimensional Arrays (list within a list):\n",
    "a_mul = np.array([[1,2,3],\n",
    "                 [4,5,6],\n",
    "                 [7,8,9]])\n",
    "\n",
    "print(a_mul)\n",
    "\n",
    "print(\"Printing 9: \", a_mul[2, 2])"
   ],
   "id": "2610b6ac61108ce2",
   "outputs": [
    {
     "name": "stdout",
     "output_type": "stream",
     "text": [
      "[[1 2 3]\n",
      " [4 5 6]\n",
      " [7 8 9]]\n",
      "Printing 9:  9\n",
      "Get Dimension:  2\n",
      "Get Size:  9\n",
      "Get item:  (3, 3)\n"
     ]
    }
   ],
   "execution_count": 10
  },
  {
   "metadata": {
    "ExecuteTime": {
     "end_time": "2025-06-16T23:02:20.366574Z",
     "start_time": "2025-06-16T23:02:20.358063Z"
    }
   },
   "cell_type": "code",
   "source": [
    "# Get Dimension:\n",
    "print(a_mul.ndim)\n",
    "# Get Shape:\n",
    "print(a_mul.shape)"
   ],
   "id": "9455fa404d5c535b",
   "outputs": [
    {
     "name": "stdout",
     "output_type": "stream",
     "text": [
      "2\n",
      "(3, 3)\n"
     ]
    }
   ],
   "execution_count": 12
  },
  {
   "metadata": {
    "ExecuteTime": {
     "end_time": "2025-06-16T23:07:29.543160Z",
     "start_time": "2025-06-16T23:07:29.532947Z"
    }
   },
   "cell_type": "code",
   "source": [
    "# Array Math:\n",
    "a = np.array([1,2,3])\n",
    "b = np.array([4,5,6])\n",
    "\n",
    "print(a+b)\n",
    "print(a*b)\n",
    "print(a**2) # to the 2nd power\n",
    "print(a/b)"
   ],
   "id": "7d6cc8989faf8074",
   "outputs": [
    {
     "name": "stdout",
     "output_type": "stream",
     "text": [
      "[5 7 9]\n",
      "[ 4 10 18]\n",
      "[1 4 9]\n",
      "[0.25 0.4  0.5 ]\n"
     ]
    }
   ],
   "execution_count": 16
  },
  {
   "metadata": {},
   "cell_type": "markdown",
   "source": [
    "### Accessing/Changing Specific Elements:\n",
    "\n",
    "**Keep in mind that indexing starts at 0**"
   ],
   "id": "6f17bffb0a8dc9b5"
  },
  {
   "metadata": {
    "ExecuteTime": {
     "end_time": "2025-06-16T23:29:55.185529Z",
     "start_time": "2025-06-16T23:29:55.179751Z"
    }
   },
   "cell_type": "code",
   "source": [
    "a = np.array([[1,2,3,4,5,6,7],[8,9,10,11,12,13,14]])\n",
    "print(a)"
   ],
   "id": "69f3bd0ae6ae7067",
   "outputs": [
    {
     "name": "stdout",
     "output_type": "stream",
     "text": [
      "[[ 1  2  3  4  5  6  7]\n",
      " [ 8  9 10 11 12 13 14]]\n"
     ]
    }
   ],
   "execution_count": 8
  },
  {
   "metadata": {
    "ExecuteTime": {
     "end_time": "2025-06-16T23:13:06.443677Z",
     "start_time": "2025-06-16T23:13:06.434044Z"
    }
   },
   "cell_type": "code",
   "source": [
    "# Get a specific element: [row, column]\n",
    "a[0,3]"
   ],
   "id": "74002a433ab80ebd",
   "outputs": [
    {
     "data": {
      "text/plain": [
       "4"
      ]
     },
     "execution_count": 28,
     "metadata": {},
     "output_type": "execute_result"
    }
   ],
   "execution_count": 28
  },
  {
   "metadata": {
    "ExecuteTime": {
     "end_time": "2025-06-16T23:13:42.447860Z",
     "start_time": "2025-06-16T23:13:42.432749Z"
    }
   },
   "cell_type": "code",
   "source": [
    "# Also do negative indexing:\n",
    "a[0,-2]"
   ],
   "id": "284a6508a386ac42",
   "outputs": [
    {
     "data": {
      "text/plain": [
       "6"
      ]
     },
     "execution_count": 29,
     "metadata": {},
     "output_type": "execute_result"
    }
   ],
   "execution_count": 29
  },
  {
   "metadata": {
    "ExecuteTime": {
     "end_time": "2025-06-16T23:14:40.313356Z",
     "start_time": "2025-06-16T23:14:40.302352Z"
    }
   },
   "cell_type": "code",
   "source": [
    "# Get a specific row:\n",
    "a[0, :]"
   ],
   "id": "ecef8da17fdbe573",
   "outputs": [
    {
     "data": {
      "text/plain": [
       "array([1, 2, 3, 4, 5, 6, 7])"
      ]
     },
     "execution_count": 30,
     "metadata": {},
     "output_type": "execute_result"
    }
   ],
   "execution_count": 30
  },
  {
   "metadata": {
    "ExecuteTime": {
     "end_time": "2025-06-16T23:14:41.980946Z",
     "start_time": "2025-06-16T23:14:41.971554Z"
    }
   },
   "cell_type": "code",
   "source": [
    "# Get a specific column:\n",
    "a[:, 2]"
   ],
   "id": "8bd4f7f1ebc8d83",
   "outputs": [
    {
     "data": {
      "text/plain": [
       "array([ 3, 10])"
      ]
     },
     "execution_count": 31,
     "metadata": {},
     "output_type": "execute_result"
    }
   ],
   "execution_count": 31
  },
  {
   "metadata": {
    "ExecuteTime": {
     "end_time": "2025-06-16T23:15:53.648740Z",
     "start_time": "2025-06-16T23:15:53.641215Z"
    }
   },
   "cell_type": "code",
   "source": [
    "# Getting a little more fancy [startindex:endindex:stepsize]\n",
    "a[0, 1:6:2]"
   ],
   "id": "af907811411c37de",
   "outputs": [
    {
     "data": {
      "text/plain": [
       "array([2, 4, 6])"
      ]
     },
     "execution_count": 32,
     "metadata": {},
     "output_type": "execute_result"
    }
   ],
   "execution_count": 32
  },
  {
   "metadata": {
    "ExecuteTime": {
     "end_time": "2025-06-16T23:17:54.991898Z",
     "start_time": "2025-06-16T23:17:54.985367Z"
    }
   },
   "cell_type": "code",
   "source": [
    "# Changing elements;\n",
    "a[1,5] = 20 # 13 to 20\n",
    "print(a)\n",
    "\n",
    "# Changing a column:\n",
    "a[:,2] = 0\n",
    "print(a)"
   ],
   "id": "58efc00ce8cb4197",
   "outputs": [
    {
     "name": "stdout",
     "output_type": "stream",
     "text": [
      "[[ 1  2  0  4  5  6  7]\n",
      " [ 8  9  0 11 12 20 14]]\n",
      "[[ 1  2  0  4  5  6  7]\n",
      " [ 8  9  0 11 12 20 14]]\n"
     ]
    }
   ],
   "execution_count": 36
  },
  {
   "metadata": {
    "ExecuteTime": {
     "end_time": "2025-06-16T23:27:16.000069Z",
     "start_time": "2025-06-16T23:27:15.991375Z"
    }
   },
   "cell_type": "code",
   "source": [
    "# 3D Example:\n",
    "b = np.array([[[1,2],[3,4]],[[5,6],[7,8]]])\n",
    "print(b)"
   ],
   "id": "84f36cecb26799ea",
   "outputs": [
    {
     "name": "stdout",
     "output_type": "stream",
     "text": [
      "[[[1 2]\n",
      "  [3 4]]\n",
      "\n",
      " [[5 6]\n",
      "  [7 8]]]\n"
     ]
    }
   ],
   "execution_count": 4
  },
  {
   "metadata": {
    "ExecuteTime": {
     "end_time": "2025-06-16T23:22:41.466567Z",
     "start_time": "2025-06-16T23:22:41.459562Z"
    }
   },
   "cell_type": "code",
   "source": [
    "# Get specific element (work outside in):\n",
    "print( b[0,1,1] )\n",
    "# Get array:\n",
    "print( b[:,1,:] )"
   ],
   "id": "6fb6f62880a232d2",
   "outputs": [
    {
     "name": "stdout",
     "output_type": "stream",
     "text": [
      "4\n",
      "[[3 4]\n",
      " [7 8]]\n"
     ]
    }
   ],
   "execution_count": 40
  },
  {
   "metadata": {
    "ExecuteTime": {
     "end_time": "2025-06-16T23:27:18.350826Z",
     "start_time": "2025-06-16T23:27:18.343481Z"
    }
   },
   "cell_type": "code",
   "source": [
    "# Replace:\n",
    "b[:,1,:] = [[9,9],[1,7]]\n",
    "print(b)"
   ],
   "id": "f99d09346c803aed",
   "outputs": [
    {
     "name": "stdout",
     "output_type": "stream",
     "text": [
      "[[[1 2]\n",
      "  [9 9]]\n",
      "\n",
      " [[5 6]\n",
      "  [1 7]]]\n"
     ]
    }
   ],
   "execution_count": 5
  },
  {
   "metadata": {},
   "cell_type": "markdown",
   "source": "### Different Types of Arrays:",
   "id": "819f6f89fd0e8543"
  },
  {
   "metadata": {
    "ExecuteTime": {
     "end_time": "2025-06-16T23:28:27.583444Z",
     "start_time": "2025-06-16T23:28:27.575409Z"
    }
   },
   "cell_type": "code",
   "source": [
    "# All 0s matrix:\n",
    "np.zeros((2,3,3))"
   ],
   "id": "59d900e59bcc8cae",
   "outputs": [
    {
     "data": {
      "text/plain": [
       "array([[[0., 0., 0.],\n",
       "        [0., 0., 0.],\n",
       "        [0., 0., 0.]],\n",
       "\n",
       "       [[0., 0., 0.],\n",
       "        [0., 0., 0.],\n",
       "        [0., 0., 0.]]])"
      ]
     },
     "execution_count": 6,
     "metadata": {},
     "output_type": "execute_result"
    }
   ],
   "execution_count": 6
  },
  {
   "metadata": {},
   "cell_type": "code",
   "outputs": [],
   "execution_count": null,
   "source": [
    "# All 1s matrix:\n",
    "np.ones((2,3,3))"
   ],
   "id": "40d423af7df759ee"
  },
  {
   "metadata": {
    "ExecuteTime": {
     "end_time": "2025-06-16T23:29:17.274703Z",
     "start_time": "2025-06-16T23:29:17.263844Z"
    }
   },
   "cell_type": "code",
   "source": [
    "# Any other number:\n",
    "np.full((2,2), 99)"
   ],
   "id": "b7bcc4ec10a70f15",
   "outputs": [
    {
     "data": {
      "text/plain": [
       "array([[99, 99],\n",
       "       [99, 99]])"
      ]
     },
     "execution_count": 7,
     "metadata": {},
     "output_type": "execute_result"
    }
   ],
   "execution_count": 7
  },
  {
   "metadata": {
    "ExecuteTime": {
     "end_time": "2025-06-16T23:32:46.257674Z",
     "start_time": "2025-06-16T23:32:46.249092Z"
    }
   },
   "cell_type": "code",
   "source": [
    "# Any other number (full like):\n",
    "np.full_like(a,4)"
   ],
   "id": "746c8626012462ba",
   "outputs": [
    {
     "data": {
      "text/plain": [
       "array([[4, 4, 4, 4, 4, 4, 4],\n",
       "       [4, 4, 4, 4, 4, 4, 4]])"
      ]
     },
     "execution_count": 10,
     "metadata": {},
     "output_type": "execute_result"
    }
   ],
   "execution_count": 10
  },
  {
   "metadata": {},
   "cell_type": "markdown",
   "source": "#### **Be careful when copying arrays!**",
   "id": "956732ad9cf848a1"
  },
  {
   "metadata": {
    "ExecuteTime": {
     "end_time": "2025-06-16T23:42:43.728572Z",
     "start_time": "2025-06-16T23:42:43.718488Z"
    }
   },
   "cell_type": "code",
   "source": [
    "a = np.array([1,2,3])\n",
    "b = a\n",
    "b[0] = 100\n",
    "\n",
    "print(a)"
   ],
   "id": "ca40e507870fd76c",
   "outputs": [
    {
     "name": "stdout",
     "output_type": "stream",
     "text": [
      "[100   2   3]\n"
     ]
    }
   ],
   "execution_count": 11
  },
  {
   "metadata": {},
   "cell_type": "markdown",
   "source": "Changes both a and b! Do this instead:",
   "id": "5401dde09da385bc"
  },
  {
   "metadata": {
    "ExecuteTime": {
     "end_time": "2025-06-16T23:44:44.117580Z",
     "start_time": "2025-06-16T23:44:44.106969Z"
    }
   },
   "cell_type": "code",
   "source": [
    "# Use the copy function for duplicating arrays:\n",
    "a = np.array([1,2,3])\n",
    "b = a.copy()\n",
    "b[0] = 100\n",
    "\n",
    "print(a)"
   ],
   "id": "60aa07acde9fd7e6",
   "outputs": [
    {
     "name": "stdout",
     "output_type": "stream",
     "text": [
      "[1 2 3]\n"
     ]
    }
   ],
   "execution_count": 12
  },
  {
   "metadata": {},
   "cell_type": "markdown",
   "source": "### Random Generation",
   "id": "6291bf271a85013b"
  },
  {
   "metadata": {
    "ExecuteTime": {
     "end_time": "2025-06-16T23:46:22.812739Z",
     "start_time": "2025-06-16T23:46:22.795847Z"
    }
   },
   "cell_type": "code",
   "source": [
    "np.random.rand(2, 3)         # Uniform [0, 1)\n",
    "np.random.randn(2, 3)        # Standard normal (mean 0, std 1)\n",
    "np.random.randint(0, 10, 5)  # 5 random ints from 0–9"
   ],
   "id": "3050a2197691691d",
   "outputs": [
    {
     "name": "stdout",
     "output_type": "stream",
     "text": [
      "None\n"
     ]
    }
   ],
   "execution_count": 13
  },
  {
   "metadata": {},
   "cell_type": "markdown",
   "source": "### Statistics",
   "id": "7db09e300d0385b6"
  },
  {
   "metadata": {
    "ExecuteTime": {
     "end_time": "2025-06-16T23:56:03.111622Z",
     "start_time": "2025-06-16T23:56:03.097346Z"
    }
   },
   "cell_type": "code",
   "source": [
    "stats = np.array([[1,2,3],[4,5,6]])\n",
    "stats"
   ],
   "id": "34168f921f92ed65",
   "outputs": [
    {
     "data": {
      "text/plain": [
       "array([[1, 2, 3],\n",
       "       [4, 5, 6]])"
      ]
     },
     "execution_count": 16,
     "metadata": {},
     "output_type": "execute_result"
    }
   ],
   "execution_count": 16
  },
  {
   "metadata": {
    "ExecuteTime": {
     "end_time": "2025-06-16T23:58:09.522753Z",
     "start_time": "2025-06-16T23:58:09.513916Z"
    }
   },
   "cell_type": "code",
   "source": "np.min(stats, axis=1) # 0 is for column, 1 is row.",
   "id": "9125bb20f61bc717",
   "outputs": [
    {
     "data": {
      "text/plain": [
       "array([1, 4])"
      ]
     },
     "execution_count": 22,
     "metadata": {},
     "output_type": "execute_result"
    }
   ],
   "execution_count": 22
  },
  {
   "metadata": {
    "ExecuteTime": {
     "end_time": "2025-06-16T23:56:53.064308Z",
     "start_time": "2025-06-16T23:56:53.053211Z"
    }
   },
   "cell_type": "code",
   "source": "np.max(stats)",
   "id": "552673d100a26809",
   "outputs": [
    {
     "data": {
      "text/plain": [
       "6"
      ]
     },
     "execution_count": 19,
     "metadata": {},
     "output_type": "execute_result"
    }
   ],
   "execution_count": 19
  },
  {
   "metadata": {
    "ExecuteTime": {
     "end_time": "2025-06-16T23:58:39.655270Z",
     "start_time": "2025-06-16T23:58:39.644330Z"
    }
   },
   "cell_type": "code",
   "source": "np.sum(stats)",
   "id": "ff59c49f4e8bf211",
   "outputs": [
    {
     "data": {
      "text/plain": [
       "21"
      ]
     },
     "execution_count": 23,
     "metadata": {},
     "output_type": "execute_result"
    }
   ],
   "execution_count": 23
  },
  {
   "metadata": {},
   "cell_type": "markdown",
   "source": "### Reorganizing Arrays",
   "id": "81fb9418a2ee8461"
  },
  {
   "metadata": {
    "ExecuteTime": {
     "end_time": "2025-06-17T00:00:27.860007Z",
     "start_time": "2025-06-17T00:00:27.850470Z"
    }
   },
   "cell_type": "code",
   "source": [
    "before = np.array([[1,2,3,4], [5,6,7,8]])\n",
    "print(before)\n",
    "\n",
    "# Reshaping:\n",
    "after = before.reshape((4,2))\n",
    "print(after)"
   ],
   "id": "de12bf4bbb38a36d",
   "outputs": [
    {
     "name": "stdout",
     "output_type": "stream",
     "text": [
      "[[1 2 3 4]\n",
      " [5 6 7 8]]\n",
      "[[1 2]\n",
      " [3 4]\n",
      " [5 6]\n",
      " [7 8]]\n"
     ]
    }
   ],
   "execution_count": 25
  },
  {
   "metadata": {},
   "cell_type": "markdown",
   "source": "### Common Utilities",
   "id": "d001e617d2248fd6"
  },
  {
   "metadata": {
    "ExecuteTime": {
     "end_time": "2025-06-17T00:06:03.587560Z",
     "start_time": "2025-06-17T00:06:03.570922Z"
    }
   },
   "cell_type": "code",
   "source": [
    "a = np.unique((1,8,2,4,2))               # Returns sorted unique values\n",
    "b = np.sort((1,2,3,2))                 # Sorted array\n",
    "c = np.concatenate([a, b])       # Join arrays\n",
    "\n",
    "print(a)\n",
    "print(b)\n",
    "print(c)"
   ],
   "id": "526b5a7f3cfe0750",
   "outputs": [
    {
     "name": "stdout",
     "output_type": "stream",
     "text": [
      "[1 2 4 8]\n",
      "[1 2 2 3]\n",
      "[1 2 4 8 1 2 2 3]\n"
     ]
    }
   ],
   "execution_count": 36
  }
 ],
 "metadata": {
  "kernelspec": {
   "display_name": "Python 3",
   "language": "python",
   "name": "python3"
  },
  "language_info": {
   "codemirror_mode": {
    "name": "ipython",
    "version": 2
   },
   "file_extension": ".py",
   "mimetype": "text/x-python",
   "name": "python",
   "nbconvert_exporter": "python",
   "pygments_lexer": "ipython2",
   "version": "2.7.6"
  }
 },
 "nbformat": 4,
 "nbformat_minor": 5
}
